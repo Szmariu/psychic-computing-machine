{
 "cells": [
  {
   "cell_type": "markdown",
   "metadata": {},
   "source": [
    "# Libraries"
   ]
  },
  {
   "cell_type": "code",
   "execution_count": 39,
   "metadata": {},
   "outputs": [],
   "source": [
    "import requests\n",
    "from bs4 import BeautifulSoup\n",
    "import csv\n",
    "from datetime import datetime\n",
    "from lxml import etree\n",
    "import pandas as pd\n",
    "import numpy as np\n",
    "from selenium import webdriver\n",
    "from selenium.webdriver.support.ui import Select\n",
    "from time import sleep\n",
    "import re\n",
    "from docx import Document\n",
    "import pandas as pd"
   ]
  },
  {
   "cell_type": "markdown",
   "metadata": {},
   "source": [
    "# Text transformations"
   ]
  },
  {
   "cell_type": "markdown",
   "metadata": {},
   "source": [
    "## All documents LOOP"
   ]
  },
  {
   "cell_type": "code",
   "execution_count": 17,
   "metadata": {},
   "outputs": [],
   "source": [
    "#Open all documents and store the path in a list\n",
    "document_list = []\n",
    "for i in range(9):\n",
    "    document = Document('data/raw/Podcast_9{}.docx'.format(i))\n",
    "    document_list.append(document)"
   ]
  },
  {
   "cell_type": "code",
   "execution_count": 18,
   "metadata": {},
   "outputs": [],
   "source": [
    "#extract headings\n",
    "def iter_headings(paragraphs):\n",
    "    for paragraph in paragraphs:\n",
    "        if paragraph.style.name.startswith('Heading'):\n",
    "            yield paragraph"
   ]
  },
  {
   "cell_type": "code",
   "execution_count": 106,
   "metadata": {
    "scrolled": false
   },
   "outputs": [],
   "source": [
    "#Big LOOP for all documents\n",
    "heading_list_big = []\n",
    "extracted_text_big = []\n",
    "gamesDict_big = []\n",
    "\n",
    "results = pd.DataFrame()\n",
    "\n",
    "for z in document_list:\n",
    "    \n",
    "    # Create an empty list for all headings\n",
    "    heading_list = []\n",
    "    \n",
    "    # Extraction headings from this document\n",
    "    for heading in iter_headings(z.paragraphs):\n",
    "        heading_list.append(heading.text)\n",
    "\n",
    "    # Remove the intro and outro\n",
    "    heading_list = heading_list[1:-1]\n",
    "    \n",
    "    text_lines = []\n",
    "\n",
    "    for i,para in enumerate(z.paragraphs):\n",
    "        if para.text in heading_list:\n",
    "            text_lines.append(i)\n",
    "\n",
    "    #extracting text lines for games only (without intro and outro)       \n",
    "    gamesText = []\n",
    "    for k,j in enumerate(text_lines):\n",
    "        for y, parar in enumerate(z.paragraphs):\n",
    "            if y>=text_lines[k]:\n",
    "                gamesText.append(parar.text)\n",
    "\n",
    "    #creating list mapping where we get the in-text position of heading (number of line)            \n",
    "    text_lines2 = [text_lines[n]-text_lines[0] for n in range(1,len(text_lines))]\n",
    "    text_lines2.insert(0,0)\n",
    "    \n",
    "    #Removing timestamp from headings\n",
    "    heading_list2 = []\n",
    "\n",
    "    for g in heading_list:\n",
    "        text = g[:-11]\n",
    "        heading_list2.append(text)\n",
    "\n",
    "    heading_list_big.append(heading_list2)\n",
    "    \n",
    "    #Extracting text with respect to headings: list of dialogs related to specific game\n",
    "    extracted_text = []\n",
    "\n",
    "    for d,w in zip(text_lines2,text_lines2[1:]):\n",
    "        text = gamesText[d+1:w]\n",
    "        extracted_text.append(text) \n",
    "    \n",
    "    for game, text in zip(heading_list, extracted_text):\n",
    "        for sentence in text:\n",
    "            results = results.append({'game' : game, 'text': sentence}, ignore_index = True)"
   ]
  },
  {
   "cell_type": "code",
   "execution_count": 107,
   "metadata": {
    "scrolled": false
   },
   "outputs": [],
   "source": [
    "resultsOld = results.copy()"
   ]
  },
  {
   "cell_type": "code",
   "execution_count": 108,
   "metadata": {},
   "outputs": [],
   "source": [
    "# Remove the timestamp once again\n",
    "results['game'] = results['game'].map(lambda x: str(x)[:-11])"
   ]
  },
  {
   "cell_type": "code",
   "execution_count": 109,
   "metadata": {},
   "outputs": [
    {
     "data": {
      "text/html": [
       "<div>\n",
       "<style scoped>\n",
       "    .dataframe tbody tr th:only-of-type {\n",
       "        vertical-align: middle;\n",
       "    }\n",
       "\n",
       "    .dataframe tbody tr th {\n",
       "        vertical-align: top;\n",
       "    }\n",
       "\n",
       "    .dataframe thead th {\n",
       "        text-align: right;\n",
       "    }\n",
       "</style>\n",
       "<table border=\"1\" class=\"dataframe\">\n",
       "  <thead>\n",
       "    <tr style=\"text-align: right;\">\n",
       "      <th></th>\n",
       "      <th>game</th>\n",
       "      <th>text</th>\n",
       "    </tr>\n",
       "  </thead>\n",
       "  <tbody>\n",
       "    <tr>\n",
       "      <th>0</th>\n",
       "      <td>Blackout: Hong Kong</td>\n",
       "      <td>Quinns: Let’s talk briefly about Blackout: Hon...</td>\n",
       "    </tr>\n",
       "    <tr>\n",
       "      <th>1</th>\n",
       "      <td>Blackout: Hong Kong</td>\n",
       "      <td>Matt: And the reasons you were excited about i...</td>\n",
       "    </tr>\n",
       "    <tr>\n",
       "      <th>2</th>\n",
       "      <td>Blackout: Hong Kong</td>\n",
       "      <td>Quinns: This is really more of a public servic...</td>\n",
       "    </tr>\n",
       "    <tr>\n",
       "      <th>3</th>\n",
       "      <td>Blackout: Hong Kong</td>\n",
       "      <td>Matt: I think “exciting to try” is the key thi...</td>\n",
       "    </tr>\n",
       "    <tr>\n",
       "      <th>4</th>\n",
       "      <td>Blackout: Hong Kong</td>\n",
       "      <td>Quinns: If you haven’t played Great Western Tr...</td>\n",
       "    </tr>\n",
       "    <tr>\n",
       "      <th>...</th>\n",
       "      <td>...</td>\n",
       "      <td>...</td>\n",
       "    </tr>\n",
       "    <tr>\n",
       "      <th>3470</th>\n",
       "      <td>Too Many Bones</td>\n",
       "      <td>Quinns: Yup.</td>\n",
       "    </tr>\n",
       "    <tr>\n",
       "      <th>3471</th>\n",
       "      <td>Too Many Bones</td>\n",
       "      <td>Matt: And it’s like, cool! Good!</td>\n",
       "    </tr>\n",
       "    <tr>\n",
       "      <th>3472</th>\n",
       "      <td>Too Many Bones</td>\n",
       "      <td>Quinns: I mean, yeah, that’s the number one th...</td>\n",
       "    </tr>\n",
       "    <tr>\n",
       "      <th>3473</th>\n",
       "      <td>Too Many Bones</td>\n",
       "      <td>Matt: Yeah. And also, why do you have to be bo...</td>\n",
       "    </tr>\n",
       "    <tr>\n",
       "      <th>3474</th>\n",
       "      <td>Too Many Bones</td>\n",
       "      <td>Quinns: I couldn’t agree more.</td>\n",
       "    </tr>\n",
       "  </tbody>\n",
       "</table>\n",
       "<p>3475 rows × 2 columns</p>\n",
       "</div>"
      ],
      "text/plain": [
       "                     game                                               text\n",
       "0     Blackout: Hong Kong  Quinns: Let’s talk briefly about Blackout: Hon...\n",
       "1     Blackout: Hong Kong  Matt: And the reasons you were excited about i...\n",
       "2     Blackout: Hong Kong  Quinns: This is really more of a public servic...\n",
       "3     Blackout: Hong Kong  Matt: I think “exciting to try” is the key thi...\n",
       "4     Blackout: Hong Kong  Quinns: If you haven’t played Great Western Tr...\n",
       "...                   ...                                                ...\n",
       "3470       Too Many Bones                                       Quinns: Yup.\n",
       "3471       Too Many Bones                   Matt: And it’s like, cool! Good!\n",
       "3472       Too Many Bones  Quinns: I mean, yeah, that’s the number one th...\n",
       "3473       Too Many Bones  Matt: Yeah. And also, why do you have to be bo...\n",
       "3474       Too Many Bones                     Quinns: I couldn’t agree more.\n",
       "\n",
       "[3475 rows x 2 columns]"
      ]
     },
     "execution_count": 109,
     "metadata": {},
     "output_type": "execute_result"
    }
   ],
   "source": [
    "results"
   ]
  },
  {
   "cell_type": "code",
   "execution_count": 110,
   "metadata": {},
   "outputs": [],
   "source": [
    "# Split the text \n",
    "new = results[\"text\"].str.split(\":\", n = 1, expand = True) \n",
    "  \n",
    "# Extract the person speaking\n",
    "results[\"person\"] = new[0] \n",
    "  \n",
    "# And what they are saying\n",
    "results[\"text\"] = new[1] \n",
    "\n",
    "# Drop if the formating was off\n",
    "results.dropna(inplace = True)\n",
    "\n",
    "# Just a preacusion\n",
    "results[results['person'].map(len) < 12]\n",
    "\n",
    "# Remove the part after their name\n",
    "results[\"person\"] = results[\"person\"].str.split(\" \", n = 1, expand = True)[0]"
   ]
  },
  {
   "cell_type": "code",
   "execution_count": 111,
   "metadata": {},
   "outputs": [
    {
     "data": {
      "text/plain": [
       "array(['Quinns', 'Matt', 'Quinn', 'Kylie', 'This', 'And', 'Audience'],\n",
       "      dtype=object)"
      ]
     },
     "execution_count": 111,
     "metadata": {},
     "output_type": "execute_result"
    }
   ],
   "source": [
    "results.person.unique()"
   ]
  },
  {
   "cell_type": "code",
   "execution_count": 120,
   "metadata": {},
   "outputs": [],
   "source": [
    "# Remove \"This\" and \"And\"\n",
    "results = results[(results['person'] != 'This') & (results['person'] != 'And')]"
   ]
  },
  {
   "cell_type": "code",
   "execution_count": 121,
   "metadata": {},
   "outputs": [
    {
     "data": {
      "text/plain": [
       "array(['Quinns', 'Matt', 'Quinn', 'Kylie', 'Audience'], dtype=object)"
      ]
     },
     "execution_count": 121,
     "metadata": {},
     "output_type": "execute_result"
    }
   ],
   "source": [
    "results.person.unique()"
   ]
  },
  {
   "cell_type": "code",
   "execution_count": 123,
   "metadata": {},
   "outputs": [
    {
     "data": {
      "text/plain": [
       "array(['Blackout: Hong Kong', 'Just One', 'Sumer',\n",
       "       'The Quacks of Quedlinburg', 'Schummel Hummel', 'The Thing',\n",
       "       'Pipeline', 'Wingspan', 'Twilight Imperium stream plug',\n",
       "       'Chronicles of Crime', 'Franchise', 'Woodlouse Chaos',\n",
       "       'Pearple’s Choice Awards - Intro',\n",
       "       'Pearple’s Choice Awards - Best Game of 2018',\n",
       "       'Pearple’s Choice Awards - Best Expansion Released in 2018',\n",
       "       'Pearple’s Choice Awards - Best Kickstarter Delivered in 2018',\n",
       "       'Pearple’s Choice Awards - Best Game Production of 2018',\n",
       "       'Pearple’s Choice Awards - Most Unique/Original Concept of 2018',\n",
       "       'Pearple’s Choice Awards - Best Digital Board Game App of 2018',\n",
       "       'Pearple’s Choice Awards - Erik Tengblad Award for Best Game of the Previous Year I Only Got to Play for the First Time in 2018',\n",
       "       'Pearple’s Choice Awards - Best Game of Any Previous Year that I Only Got to Play for the First Time this Year',\n",
       "       'Pearple’s Choice Awards - Best Designer as of 2018',\n",
       "       'New Frontiers', 'Kemet', 'Kemet: Seth',\n",
       "       'Kemet: Ta-Seti and general', 'Altiplano: The Traveler',\n",
       "       'The Quest for El Dorado', 'Blood on the Clocktower', 'Corinth',\n",
       "       'A Feast For Odin: The Norwegians',\n",
       "       'Space Base: The Emergence of Shy Pluto', 'Monolith Arena',\n",
       "       'Alone', 'Watson & Holmes',\n",
       "       'Escape from the Aliens in Outer Space', 'Bourré', 'Gùgōng',\n",
       "       'Chinatown', 'Hansa Teutonica', 'Deep Blue', 'Auto',\n",
       "       'Flamme Rouge expansion', 'That’s Not Lemonade', 'Midlife Crisis',\n",
       "       'Res Arcana', 'Dice Throne', 'Insider', 'Three Kingdoms Redux',\n",
       "       'That’s Not Lemonade (Revisited)', 'Isle of Skye: Druids',\n",
       "       'Batman: Gotham City Chronicles',\n",
       "       'Chronicles of Crime (Revisited)', 'Stay Cool',\n",
       "       'Power Rangers: Heroes of the Grid', 'Letter Jam',\n",
       "       'Welcome to Dino World', 'Rome and Roll', 'Taverns of Tiefan Thal',\n",
       "       'Carpe Diem', 'Luxor', 'Silk', 'Pandemic: Rapid Response',\n",
       "       'Rail Pass', 'Crokinole', 'Too Many Bones'], dtype=object)"
      ]
     },
     "execution_count": 123,
     "metadata": {},
     "output_type": "execute_result"
    }
   ],
   "source": [
    "results.game.unique()"
   ]
  },
  {
   "cell_type": "markdown",
   "metadata": {},
   "source": [
    "## Webscrapping"
   ]
  },
  {
   "cell_type": "code",
   "execution_count": 445,
   "metadata": {},
   "outputs": [],
   "source": [
    "headers = {'User-Agent': 'Text mining'}\n",
    "\n",
    "# Construct the results table\n",
    "boardgameList = ['Just One']\n",
    "listhashed = [i.replace(' ', '%20') for i in boardgameList]\n",
    "summaryTable = pd.DataFrame()\n",
    "\n",
    "for j in listhashed:\n",
    "    # Load the webpage\n",
    "    \n",
    "    r = requests.get('https://boardgamegeek.com/geeksearch.php?action=search&objecttype=boardgame&q={}'.format(j), headers=headers)\n",
    "    \n",
    "    # Convert to BS\n",
    "    bs = BeautifulSoup(r.text)\n",
    "    \n",
    "    # Find the right table\n",
    "    table = bs.findAll(lambda tag: tag.name=='table' and tag.has_attr('cellpadding'))\n",
    "    #mydivs = bs.findAll(\"div\", {\"class\": \"table-responsive\"})\n",
    "    errors = bs.findAll(text=\"No Items Found\")\n",
    "   \n",
    "    if not errors:\n",
    "           \n",
    "        tableHTML = table[0]\n",
    "        #tableHTML = mydivs[0]\n",
    "        # Convert the HTML of the table to pandas (very usefull function)\n",
    "        pandasTable = pd.read_html(str(tableHTML), header=0)[0]\n",
    "\n",
    "        # Extract all the links\n",
    "        urls = [np.where(tag.has_attr('href'),tag.get('href'),\"no link\") for tag in tableHTML.find_all('a')]\n",
    "        urls = pd.DataFrame(urls)\n",
    "        urls = urls[0][6]\n",
    "\n",
    "        # Merge the links into the DF\n",
    "        pandasTable['link'] = urls\n",
    "\n",
    "        # Drop unused columns\n",
    "        pandasTable = pandasTable.drop(['Unnamed: 1', 'Shop'], axis = 1)\n",
    "\n",
    "        # Create or extend the existing summary table\n",
    "        if summaryTable.empty:\n",
    "            summaryTable = pandasTable\n",
    "        else:\n",
    "            summaryTable = pd.concat([summaryTable, pandasTable],ignore_index=True)\n",
    "    else:\n",
    "        next"
   ]
  },
  {
   "cell_type": "code",
   "execution_count": 442,
   "metadata": {},
   "outputs": [
    {
     "data": {
      "text/html": [
       "<div>\n",
       "<style scoped>\n",
       "    .dataframe tbody tr th:only-of-type {\n",
       "        vertical-align: middle;\n",
       "    }\n",
       "\n",
       "    .dataframe tbody tr th {\n",
       "        vertical-align: top;\n",
       "    }\n",
       "\n",
       "    .dataframe thead th {\n",
       "        text-align: right;\n",
       "    }\n",
       "</style>\n",
       "<table border=\"1\" class=\"dataframe\">\n",
       "  <thead>\n",
       "    <tr style=\"text-align: right;\">\n",
       "      <th></th>\n",
       "      <th>Board Game Rank</th>\n",
       "      <th>Title</th>\n",
       "      <th>Geek Rating</th>\n",
       "      <th>Avg Rating</th>\n",
       "      <th>Num Voters</th>\n",
       "      <th>link</th>\n",
       "    </tr>\n",
       "  </thead>\n",
       "  <tbody>\n",
       "    <tr>\n",
       "      <td>0</td>\n",
       "      <td>264.0</td>\n",
       "      <td>Just One (2018)</td>\n",
       "      <td>7.128</td>\n",
       "      <td>7.60</td>\n",
       "      <td>4834</td>\n",
       "      <td>/boardgame/254640/just-one</td>\n",
       "    </tr>\n",
       "    <tr>\n",
       "      <td>1</td>\n",
       "      <td>NaN</td>\n",
       "      <td>Port Royal: Just One More Contract... (2015)</td>\n",
       "      <td>6.543</td>\n",
       "      <td>7.53</td>\n",
       "      <td>1424</td>\n",
       "      <td>/boardgame/254640/just-one</td>\n",
       "    </tr>\n",
       "    <tr>\n",
       "      <td>2</td>\n",
       "      <td>NaN</td>\n",
       "      <td>Just One Die Soccer (2009)</td>\n",
       "      <td>NaN</td>\n",
       "      <td>1.00</td>\n",
       "      <td>1</td>\n",
       "      <td>/boardgame/254640/just-one</td>\n",
       "    </tr>\n",
       "    <tr>\n",
       "      <td>3</td>\n",
       "      <td>NaN</td>\n",
       "      <td>Just One: Deutscher Spielepreis Classic Goodie...</td>\n",
       "      <td>NaN</td>\n",
       "      <td>5.83</td>\n",
       "      <td>3</td>\n",
       "      <td>/boardgame/254640/just-one</td>\n",
       "    </tr>\n",
       "    <tr>\n",
       "      <td>4</td>\n",
       "      <td>NaN</td>\n",
       "      <td>Just One: Gathering of Friends Promo Cards (2019)</td>\n",
       "      <td>NaN</td>\n",
       "      <td>7.00</td>\n",
       "      <td>3</td>\n",
       "      <td>/boardgame/254640/just-one</td>\n",
       "    </tr>\n",
       "    <tr>\n",
       "      <td>5</td>\n",
       "      <td>NaN</td>\n",
       "      <td>Cocks Abreast Hostility: Cock Pack One – Just ...</td>\n",
       "      <td>NaN</td>\n",
       "      <td>8.00</td>\n",
       "      <td>6</td>\n",
       "      <td>/boardgame/254640/just-one</td>\n",
       "    </tr>\n",
       "  </tbody>\n",
       "</table>\n",
       "</div>"
      ],
      "text/plain": [
       "   Board Game Rank                                              Title  \\\n",
       "0            264.0                                    Just One (2018)   \n",
       "1              NaN       Port Royal: Just One More Contract... (2015)   \n",
       "2              NaN                         Just One Die Soccer (2009)   \n",
       "3              NaN  Just One: Deutscher Spielepreis Classic Goodie...   \n",
       "4              NaN  Just One: Gathering of Friends Promo Cards (2019)   \n",
       "5              NaN  Cocks Abreast Hostility: Cock Pack One – Just ...   \n",
       "\n",
       "   Geek Rating  Avg Rating  Num Voters                        link  \n",
       "0        7.128        7.60        4834  /boardgame/254640/just-one  \n",
       "1        6.543        7.53        1424  /boardgame/254640/just-one  \n",
       "2          NaN        1.00           1  /boardgame/254640/just-one  \n",
       "3          NaN        5.83           3  /boardgame/254640/just-one  \n",
       "4          NaN        7.00           3  /boardgame/254640/just-one  \n",
       "5          NaN        8.00           6  /boardgame/254640/just-one  "
      ]
     },
     "metadata": {},
     "output_type": "display_data"
    }
   ],
   "source": [
    "display(summaryTable)"
   ]
  },
  {
   "cell_type": "code",
   "execution_count": null,
   "metadata": {},
   "outputs": [],
   "source": [
    "# Loading the firefox webdriver\n",
    "driver = webdriver.Chrome('/Users/korneliusz.krysiak/Dropbox/TextMining/chromedriver')"
   ]
  },
  {
   "cell_type": "code",
   "execution_count": 19,
   "metadata": {},
   "outputs": [],
   "source": [
    "# Construct the results table\n",
    "detailedTable = pd.DataFrame(columns=['Title','Average Rating','Number of ratings','Std.dev','Number of Comments','Fans','Page Views','Overall Ranking','All Time Plays','Played This Month', 'Own', 'Previously Owned','For Trade','Want in Trade','Wishlist','Has Parts','Want Parts'])\n",
    "detailedTable2 = pd.DataFrame()\n",
    "\n",
    "for j in range(1):\n",
    "    # Load the webpage\n",
    "    driver.get('https://boardgamegeek.com{}/stats'.format(summaryTable['link'][j]))\n",
    "    \n",
    "    # Get the source code and make it BS\n",
    "    pageSource = driver.page_source\n",
    "    bs = BeautifulSoup(pageSource, \"lxml\")\n",
    "    \n",
    "    # Find the relevant table\n",
    "    data = bs.findAll('div',{'class':'outline-item-description'})\n",
    "    \n",
    "    # Loop over and strip spaces\n",
    "    data2 = []\n",
    "    for i in data:\n",
    "        data2.append(i.get_text().strip())\n",
    "\n",
    "    # Remove the ',' \n",
    "    for i in range(len(data2)):\n",
    "        data2[i] = data2[i].replace(\",\",\"\")\n",
    "\n",
    "    # Wrangle the columns\n",
    "    data2[3] = data2[3][0:4]\n",
    "    data2[0] = float(data2[0])\n",
    "    data2[1] = int(data2[1]) \n",
    "    data2[2] = float(data2[2])\n",
    "    data2[3] = float(data2[3]) \n",
    "\n",
    "    # Convert to int\n",
    "    for i in range(len(data2[4:])+1):\n",
    "        i = i+3\n",
    "        data2[i] = int(data2[i])\n",
    "\n",
    "    # Special case - two categories. We want to drop both\n",
    "    if len(data2) == 19:\n",
    "        data2.pop(8)\n",
    "        data2.pop(8)\n",
    "    else:\n",
    "        data2.pop(8)\n",
    "    \n",
    "    # Insert the data\n",
    "    data2.insert(0,summaryTable['Title'][j]) \n",
    "    detailedTable.loc[len(detailedTable)] = data2"
   ]
  },
  {
   "cell_type": "code",
   "execution_count": 21,
   "metadata": {},
   "outputs": [
    {
     "data": {
      "text/html": [
       "<div>\n",
       "<style scoped>\n",
       "    .dataframe tbody tr th:only-of-type {\n",
       "        vertical-align: middle;\n",
       "    }\n",
       "\n",
       "    .dataframe tbody tr th {\n",
       "        vertical-align: top;\n",
       "    }\n",
       "\n",
       "    .dataframe thead th {\n",
       "        text-align: right;\n",
       "    }\n",
       "</style>\n",
       "<table border=\"1\" class=\"dataframe\">\n",
       "  <thead>\n",
       "    <tr style=\"text-align: right;\">\n",
       "      <th></th>\n",
       "      <th>Title</th>\n",
       "      <th>Average Rating</th>\n",
       "      <th>Number of ratings</th>\n",
       "      <th>Std.dev</th>\n",
       "      <th>Number of Comments</th>\n",
       "      <th>Fans</th>\n",
       "      <th>Page Views</th>\n",
       "      <th>Overall Ranking</th>\n",
       "      <th>All Time Plays</th>\n",
       "      <th>Played This Month</th>\n",
       "      <th>Own</th>\n",
       "      <th>Previously Owned</th>\n",
       "      <th>For Trade</th>\n",
       "      <th>Want in Trade</th>\n",
       "      <th>Wishlist</th>\n",
       "      <th>Has Parts</th>\n",
       "      <th>Want Parts</th>\n",
       "    </tr>\n",
       "  </thead>\n",
       "  <tbody>\n",
       "    <tr>\n",
       "      <td>0</td>\n",
       "      <td>Stay Cool (2019)</td>\n",
       "      <td>7.173</td>\n",
       "      <td>102</td>\n",
       "      <td>1.35</td>\n",
       "      <td>1</td>\n",
       "      <td>17</td>\n",
       "      <td>8</td>\n",
       "      <td>7121</td>\n",
       "      <td>6336</td>\n",
       "      <td>23</td>\n",
       "      <td>149</td>\n",
       "      <td>1</td>\n",
       "      <td>0</td>\n",
       "      <td>31</td>\n",
       "      <td>172</td>\n",
       "      <td>0</td>\n",
       "      <td>1</td>\n",
       "    </tr>\n",
       "  </tbody>\n",
       "</table>\n",
       "</div>"
      ],
      "text/plain": [
       "              Title  Average Rating Number of ratings  Std.dev  \\\n",
       "0  Stay Cool (2019)           7.173               102     1.35   \n",
       "\n",
       "  Number of Comments Fans Page Views Overall Ranking All Time Plays  \\\n",
       "0                  1   17          8            7121           6336   \n",
       "\n",
       "  Played This Month  Own Previously Owned For Trade Want in Trade Wishlist  \\\n",
       "0                23  149                1         0            31      172   \n",
       "\n",
       "  Has Parts Want Parts  \n",
       "0         0          1  "
      ]
     },
     "metadata": {},
     "output_type": "display_data"
    }
   ],
   "source": [
    "display(detailedTable)"
   ]
  },
  {
   "cell_type": "code",
   "execution_count": null,
   "metadata": {},
   "outputs": [],
   "source": [
    "# twoja kolej Michal"
   ]
  }
 ],
 "metadata": {
  "kernelspec": {
   "display_name": "Python 3",
   "language": "python",
   "name": "python3"
  },
  "language_info": {
   "codemirror_mode": {
    "name": "ipython",
    "version": 3
   },
   "file_extension": ".py",
   "mimetype": "text/x-python",
   "name": "python",
   "nbconvert_exporter": "python",
   "pygments_lexer": "ipython3",
   "version": "3.7.6"
  }
 },
 "nbformat": 4,
 "nbformat_minor": 4
}
