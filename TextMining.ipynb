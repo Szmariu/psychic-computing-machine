{
 "cells": [
  {
   "cell_type": "markdown",
   "metadata": {},
   "source": [
    "# Libraries"
   ]
  },
  {
   "cell_type": "code",
   "execution_count": 146,
   "metadata": {},
   "outputs": [],
   "source": [
    "import requests\n",
    "from bs4 import BeautifulSoup\n",
    "import csv\n",
    "from datetime import datetime\n",
    "from lxml import etree\n",
    "import pandas as pd\n",
    "import numpy as np\n",
    "from selenium import webdriver\n",
    "from selenium.webdriver.support.ui import Select\n",
    "from time import sleep\n",
    "import re\n",
    "from docx import Document\n",
    "import nltk\n",
    "from itertools import chain\n",
    "import heapq\n",
    "from nltk.corpus import stopwords\n",
    "from nltk.tokenize import word_tokenize \n",
    "import string"
   ]
  },
  {
   "cell_type": "code",
   "execution_count": 121,
   "metadata": {},
   "outputs": [
    {
     "name": "stderr",
     "output_type": "stream",
     "text": [
      "[nltk_data] Downloading package punkt to\n",
      "[nltk_data]     /Users/korneliusz.krysiak/nltk_data...\n",
      "[nltk_data]   Package punkt is already up-to-date!\n",
      "[nltk_data] Downloading package stopwords to\n",
      "[nltk_data]     /Users/korneliusz.krysiak/nltk_data...\n",
      "[nltk_data]   Unzipping corpora/stopwords.zip.\n"
     ]
    },
    {
     "data": {
      "text/plain": [
       "True"
      ]
     },
     "execution_count": 121,
     "metadata": {},
     "output_type": "execute_result"
    }
   ],
   "source": [
    "nltk.download('punkt')\n",
    "nltk.download('stopwords')"
   ]
  },
  {
   "cell_type": "markdown",
   "metadata": {},
   "source": [
    "# Text transformations"
   ]
  },
  {
   "cell_type": "markdown",
   "metadata": {},
   "source": [
    "## All documents LOOP"
   ]
  },
  {
   "cell_type": "code",
   "execution_count": 2,
   "metadata": {},
   "outputs": [],
   "source": [
    "#Open all documents and store the path in a list\n",
    "document_list = []\n",
    "for i in range(9):\n",
    "    document = Document('data/raw/Podcast_9{}.docx'.format(i))\n",
    "    document_list.append(document)"
   ]
  },
  {
   "cell_type": "code",
   "execution_count": 3,
   "metadata": {},
   "outputs": [],
   "source": [
    "#extract headings\n",
    "def iter_headings(paragraphs):\n",
    "    for paragraph in paragraphs:\n",
    "        if paragraph.style.name.startswith('Heading'):\n",
    "            yield paragraph"
   ]
  },
  {
   "cell_type": "code",
   "execution_count": 4,
   "metadata": {},
   "outputs": [],
   "source": [
    "#Big LOOP for all documents\n",
    "heading_list_big = []\n",
    "extracted_text_big = []\n",
    "gamesDict_big = []\n",
    "\n",
    "for z in document_list:\n",
    "    \n",
    "    heading_list = []\n",
    "    \n",
    "    #extraction of headings from our documents\n",
    "    for heading in iter_headings(z.paragraphs):\n",
    "        heading_list.append(heading.text)\n",
    "\n",
    "    heading_list = heading_list[1:-1]\n",
    "    \n",
    "    text_lines = []\n",
    "\n",
    "    for i,para in enumerate(z.paragraphs):\n",
    "        if para.text in heading_list:\n",
    "            text_lines.append(i)\n",
    "\n",
    "    #extracting text lines for games only (without intro and outro)       \n",
    "    gamesText = []\n",
    "\n",
    "    for k,j in enumerate(text_lines):\n",
    "        for y, parar in enumerate(z.paragraphs):\n",
    "            if y>=text_lines[k]:\n",
    "                gamesText.append(parar.text)\n",
    "\n",
    "    #creating list mapping where we get the in-text position of heading (number of line)            \n",
    "    text_lines2 = [text_lines[n]-text_lines[0] for n in range(1,len(text_lines))]\n",
    "    text_lines2.insert(0,0)\n",
    "    \n",
    "    #Removing timestamp from headings\n",
    "    heading_list2 = []\n",
    "\n",
    "    for g in heading_list:\n",
    "        text = g[:-11]\n",
    "        heading_list2.append(text)\n",
    "\n",
    "    heading_list_big.append(heading_list2)\n",
    "    \n",
    "    #Extracting text with respect to headings: list of dialogs related to specific game\n",
    "    extracted_text = []\n",
    "\n",
    "    for d,w in zip(text_lines2,text_lines2[1:]):\n",
    "        text = gamesText[d+1:w]\n",
    "        extracted_text.append(text)\n",
    "        \n",
    "    gamesDict = dict(zip(heading_list, extracted_text))\n",
    "    gamesDict_big.append(gamesDict)\n",
    "    extracted_text_big.append(extracted_text)"
   ]
  },
  {
   "cell_type": "code",
   "execution_count": 5,
   "metadata": {},
   "outputs": [],
   "source": [
    "#flatten the list of headings\n",
    "flat_list = []\n",
    "for sublist in heading_list_big:\n",
    "    for item in sublist:\n",
    "        flat_list.append(item)"
   ]
  },
  {
   "cell_type": "code",
   "execution_count": 67,
   "metadata": {
    "collapsed": true,
    "jupyter": {
     "outputs_hidden": true
    }
   },
   "outputs": [
    {
     "name": "stdout",
     "output_type": "stream",
     "text": [
      "['Quinns: Let’s talk briefly about Blackout: Hong Kong, a eurogame by Alexander Pfister, which I got very excited about a couple of episodes ago, a game about running an organization in Hong Kong after a power cut and you have to keep the city running, you have to keep medicine and food flowing. You gotta keep that food flowing, Matthew.', 'Matt: And the reasons you were excited about it, you had every right to be excited about, because actually the coolest mechanics in it are very evocative and very cool. The whole thing of having to send people out to scout and recon, but every time you do you’ll lose somebody from your group/gang, depending on what kind of unsavory types you’re hiring: Very interesting! We played it a bunch when we were in Philadelphia. We played it just me and you, you had played with some other people, and to be honest, I found that the more we played it… It’s a very competent puzzle by Mr. Pfister, but it doesn’t have the same kind of thematic flair as Great Western Trail.', 'Quinns: This is really more of a public service announcement I think, because I got so excited about it, and you played it once and also were pretty hype, but yeah it doesn’t have the staying power of other economy management games that we recommend. And I was thinking about why that is, and for me, usually – I don’t know, thinking about eurogames I’ve played a lot recently, like the fabulous A Feast For Odin – and the thing with Blackout: Hong Kong was that I would finish it and go, “Yeah, I think I did pretty well.” And then I played it again and would go, “Yup, I sure did pretty well again.” But I wasn’t taking, from one game into the next, knowledge of what I did wrong, or what I was excited to try. And every game of it I just sort of did what made sense.', 'Matt: I think “exciting to try” is the key thing for me there, because I felt that really, whilst it was very cool to have a eurogame which had a different theme of having to stock up on survival aspects, whether it’s “We’re gonna go and get food, we’re gonna get water, we’re gonna get fuel,” but there wasn’t really any thematic feeling of difference between any of the different mechanics in the game, and I think generally that’s the thing. Like maybe you could make a really big gang of people, maybe you could do this. But it didn’t feel different, unlike in Great Western Trail, where it’s like, “Maybe I’m gonna go and ride this train really far. Maybe I’m gonna get award-winning cows.” That felt enough...', 'Quinns: If you haven’t played Great Western Trail, that does make the game sound completely insane.', 'Matt: Yeah, it does, but I felt like when I was taking a different approach in Great Western Trail, A) it was a choice, and I could choose to do that. Even though sometimes it was like, “Okay, this feels like the right choice now.” But there was enough thematic difference, where in this, really, it’s admirable that they’ve tried to use a different, interesting theme, but I didn’t feel like- in a euro of moving cubes around, there’s no different between water, and food, and fuel, and tools; it’s just different cubes. And if you’re playing a game where it’s like: Wood! Or, you know, carrots! Then that’s not so bad? But in this, I don’t know, it struggled to correctly convey the emotional abstraction? And I don’t know if that’s possible, but yeah.', 'Quinns: I guess it’s an interesting question, maybe for minds smarter than us, that when you’re dealing with farming games, like Agricola – the grand-daddy of so many of these sorts of games; big complicated farming simulator – whether you get a Carrot, or a Child, or some bricks that you can use to make a wall, those are resources that are applied very differently, and so of course you might logically assume that if you’re making a game set in the 21st century, like Blackout: Hong Kong, that it’ll be just as thematic to have batteries and food and medicine, but actually in the 21st century, those resources are just… resources, when you’re delivering them to a population on a large scale. I suppose, if I was redesigning the game from scratch, the way to make those resources fit more adequately into the mechanics would be to make it on a much smaller scale. Because on a smaller scale, if you have a gang of eight people, if you don’t have food, or medicine, or batteries, those are going to do very different, tangible things to that group.', 'Matt: Well it’s a bit like the way that sci fi often doesn’t work in game design with stories, because it’s harder to envision. A good thing about euros is, “Oh, I can combine these two bricks to make a building.” That kind of loosely makes sense, and is immediately obvious. When you’ve got more abstract combinations, eh! It might not. But also yeah, even the fact that all this cool art, and all the cool different character types, I just wasn’t looking at it. It just became very purely mechanical. There is a question here of about how well eurogames, as a format, really can convert themselves to interesting thematic settings like this, and how much they’re best-suited for like, “This is a game where you’re gonna build some stuff.”', 'Quinns: Yeah, I mean certainly it’s the puzzle that doesn’t get any easier to unpick, right? I mentioned A Feast For Odin earlier; why is it in A Feast For Odin, when you get a necklace, which is a bizarre-shaped brick, which you then put on your player board, that feels, Matthew, like you’ve got a necklace. And you’re so proud of your necklace, and mechanically, it doesn’t even have an effect! It’s just a different shape.', 'Matt: The belle of the fjord! ...doesn’t really work.', 'Quinns: You’ve got the rest of 2019 to do better.', 'Matt: Let’s move on.', 'Quinns: Okay! Yes, so, Blackout: Hong Kong, definitely one to try, but perhaps not one that we’d recommend buying, until you’ve got, for example, lots of other Alexander Pfister’s other games, like Isle of Skye, or Great Western Trail.']\n"
     ]
    }
   ],
   "source": [
    "#tu beda 3 wartosci, bo to jest lista list\n",
    "# pierwsza to numer pliku, druga to numer planszowki, 3 to kolejne osoby w wywiadzie\n",
    "#czyli np : 0 0 0 to jest 1 docx 1 planszowka 1 wypowiedź, a 0 0 1 to juz 2 wypodzidz do tej samej planszowki\n",
    "#print(extracted_text_big[0][0][2])\n",
    "print(extracted_text_big[0][0])"
   ]
  },
  {
   "cell_type": "markdown",
   "metadata": {},
   "source": [
    "# Text Mining"
   ]
  },
  {
   "cell_type": "code",
   "execution_count": 93,
   "metadata": {},
   "outputs": [],
   "source": [
    "#Join the reviewers speach about one game as one text\n",
    "big_joined_list = []\n",
    "for i in extracted_text_big:\n",
    "    joined_list = []\n",
    "    big_joined_list.append(joined_list)\n",
    "    for j in i:\n",
    "        joined_list.append(' '.join(j))"
   ]
  },
  {
   "cell_type": "code",
   "execution_count": 231,
   "metadata": {},
   "outputs": [],
   "source": [
    "#tokenize\n",
    "tokenized = []\n",
    "for i in big_joined_list:\n",
    "    word_tokens = []\n",
    "    tokenized.append(word_tokens)\n",
    "    for j in i:\n",
    "        word_tokens.append(word_tokenize(j))"
   ]
  },
  {
   "cell_type": "code",
   "execution_count": 232,
   "metadata": {},
   "outputs": [],
   "source": [
    "#unlist\n",
    "tokenized = list(chain.from_iterable(tokenized))\n",
    "#set stopwords\n",
    "stop_words = set(stopwords.words('english'))\n",
    "#punctiation seting\n",
    "punctuations = list(string.punctuation)\n",
    "own_punctuations = [\"''\",\"_\",\"“\",\"’\",\"…\",\"[\",\"-\",\"”\"]\n",
    "punctuations.append(own_punctuations)\n",
    "punctuations = list(chain.from_iterable(punctuations))"
   ]
  },
  {
   "cell_type": "code",
   "execution_count": 233,
   "metadata": {},
   "outputs": [],
   "source": [
    "#clear tokens from punctuation\n",
    "cleared_tokens = []\n",
    "for token in tokenized:\n",
    "    cleared_tokens.append([i.strip(\"\".join(punctuations)) for i in token if i not in punctuations])"
   ]
  },
  {
   "cell_type": "code",
   "execution_count": 219,
   "metadata": {
    "collapsed": true,
    "jupyter": {
     "outputs_hidden": true
    }
   },
   "outputs": [
    {
     "name": "stdout",
     "output_type": "stream",
     "text": [
      "['Quinns', 'Let', 's', 'talk', 'about', 'something', 'a', 'bit', 'more', 'positive', 'let', 's', 'talk', 'about', 'Just', 'One', 'Which', 'is', 'so', 'simple', 'I', 'can', 't', 'imagine', 'we', 're', 'gon', 'na', 'be', 'talking', 'about', 'it', 'for', 'a', 'long', 'time', 'but', 'my', 'goodness', 'I', 've', 'been', 'having', 'a', 'lot', 'of', 'fun', 'with', 'this', 'Matt', 'It', 's', 'really', 'quite', 'good', 'Quinns', 'How', 'would', 'you', 'describe', 'Just', 'One', 'Matthew', 'Lees', 'Matt', 'I', 'd', 'describe', 'Just', 'One', 'by', 'saying', 'that', 'it', 's', 'a', 'game', 'where', 'you', 'have', 'You', 'know', 'when', 'you', 'have', 'little', 'placeholders', 'at', 'restaurants', 'or', 'like', 'weddings', '–', 'wedding', 's', 'better', '–', 'where', 'it', 's', 'like', 'a', 'little', 'bit', 'of', 'plastic', 'that', 'effectively', 'has', 'got', 'a', 'name', 'on', 'it', 'except', 'they', 're', 'blank', 'and', 'you', 'have', 'little', 'pens', 'and', 'each', 'time', 'there', 'is', 'one', 'person', 'who', 'has', 'a', 'card', 'in', 'front', 'of', 'them', 'and', 'it', 'has', 'five', 'different', 'words', 'they', 'choose', 'a', 'number', 'and', 'then', 'everyone', 'else', 'sees', 'that', 'word', 'and', 'they', 'go', 'Okay', 'word', 'number', 'four', 'and', 'then', 'they', 'all', 'have', 'to', 'write', 'a', 'clue', 'Quinns', 'So', 'for', 'example', 'they', 'might', 'be', 'trying', 'to', 'get', 'you', 'to', 'guess', 'uh', 'Matt', 'Stone', 'Quinns', 'Stone', 'Great', 'Matt', 'And', 'so', 'you', 'think', 'Okay', '‘', 'stone', 'and', 'I', 'might', 'then', 'write', 'like', 'ourgh', 'like', 'Cannabis', 'or', 'something', 'Quinns', 'Oh', 'okay', 'sure', 'Matt', 'Yeah', 'Because', 'Quinns', 'laughing', 'Sorry', 'this', 'we', 're', 'confusing', 'Because', 'The', 'trick', 'of', 'the', 'game', 'effectively', 'is', 'you', 'write', 'on', 'this', 'thing', 'and', 'then', 'when', 'you', 're', 'all', 'ready', 'the', 'person', 'who', 'has', 'to', 'guess', 'looks', 'away', 'and', 'everyone', 'shows', 'all', 'the', 'other', 'clue', 'givers', 'their', 'clues', 'and', 'if', 'there', 's', 'any', 'crossover', '–', 'if', 'two', 'people', 'have', 'written', 'the', 'same', 'clue', 'or', 'something', 'ridiculously', 'close', '–', 'those', 'clues', 'are', 'then', 'wiped', 'out', 'of', 'the', 'equation', 'and', 'the', 'person', 'won', 't', 'get', 'to', 'see', 'them', 'Once', 'that', 's', 'happened', 'you', 'share', 'the', 'remaining', 'words', 'with', 'the', 'person', 'who', 'has', 'to', 'guess', 'and', 'they', 'have', 'to', 'look', 'for', 'the', 'connection', 'between', 'all', 'of', 'these', 'words', 'and', 'guess', 'what', 'the', 'word', 'is', 'Quinns', 'So', 'for', 'example', 'if', 'I', 'have', 'to', 'guess', 'the', 'word', 'in', 'this', 'cooperative', 'game', '–', 'we', 'should', 'stress', 'it', 's', 'a', 'game', 'where', 'you', 're', 'trying', 'to', 'get', 'the', 'answer', 'successfully', 'enough', 'times', '–', 'everyone', 'turns', 'their', 'weird', 'little', 'plastic', 'place', 'settings', 'around', 'and', 'I', 'see', 'that', 'my', 'friends', 'have', 'written', 'Clothes', 'Torso', 'Arms', 'and', 'those', 'are', 'my', 'clues', 'so', 'I', 'guess', 'Shirt', 'And', 'then', 'all', 'my', 'friends', 'go', 'Hooray', 'Because', 'that', 'was', 'correct', 'Matt', 'Yeah', 'so', 'I', 'think', 'the', 'interesting', 'space', 'with', 'that', 'game', 'is', 'that', 'you', 'want', 'to', 'write', 'something', 'that', 's', 'gon', 'na', 'be', 'not', 'too', 'obvious', 'because', 'if', 'it', 's', 'too', 'obvious', 'someone', 'else', 'would', 'write', 'it', 'and', 'then', 'you', 'll', 'wipe', 'out', 'the', 'clue', 'but', 'if', 'everyone', 'writes', 'things', 'that', 'are', 'kind', 'of', 'left', 'field', 'Quinns', 'That', 'are', 'just', 'so', 'Byzantine', 'yeah', 'Matt', '', 'then', 'it', 'becomes', 'really', 'quite', 'hard', 'to', 'work', 'out', 'what', 'the', 'word', 'is', 'Quinns', 'That', 'is', 'the', 'game', 'You', 'know', 'there', 's', 'not', 'even', 'anything', 'beyond', 'Play', 'thirteen', 'times', 'and', 'try', 'and', 'get', 'as', 'many', 'points', 'as', 'possible', 'That', 's', 'the', 'entire', 'game', 'And', 'yet', 'there', 's', 'something', 'about', 'it', 'that', 's', 'just', 'joyous', 'Like', 'it', 's', 'a', 'puzzle', 'that', 'everyone', 'gets', 'really', 'invested', 'in', 'someone', 'getting', 'the', 'answer', 'right', 'It', 's', 'also', 'got', 'a', 'nice', 'social', 'dynamic', 'where', 'of', 'course', 'everyone', 'knows', 'the', 'answer', 'except', 'one', 'person', 'which', 'is', 'quite', 'tense', 'If', 'you', 're', 'guessing', 'you', 'feel', 'tense', 'if', 'you', 're', 'everybody', 'else', 'you', 'feel', 'like', 'you', 're', 'in', 'on', 'a', 'shared', 'secret', 'Matt', 'Yeah', 'and', 'it', 's', 'even', 'that', 'thing', 'because', 'no', 'one', 'ever', 'really', 'wants', 'to', 'think', 'that', 'they', 've', 'written', 'down', 'something', 'which', 'is', 'super', 'obvious', 'when', 'you', 'do', 'flip', 'it', 'round', 'and', 'you', 've', 'written', 'the', 'same', 'thing', 'as', 'someone', 'else', 'you', 'don', 't', 'feel', 'that', 'annoyed', 'about', 'it', 'because', 'it', 's', 'just', 'like', 'Ah', 'okay', 'yeah', 'we', 'both', 'thought', 'that', 'was', 'a', 'good', 'idea', 'Quinns', 'Yeah', 'exactly', 'It', 's', 'almost', 'flattering', 'that', 'someone', 'else', 'also', 'It', 'was', 'such', 'a', 'good', 'idea', 'other', 'people', 'had', 'it', 'And', 'now', 'you', 've', 'lost', 'Matt', 'It', 's', 'really', 'interesting', 'actually', 'and', 'I', 'really', 'like', 'the', 'use', 'of', 'the', 'plastic', 'and', 'the', 'white', 'pens', 'to', 'be', 'honest', 'because', 'increasingly', 'I', 'find', 'especially', 'with', 'roll-and-write', 'Roland', 'Wright', 'games', '–', 'fantastic', 'designer', '–', 'I', 'really', 'like', 'the', 'fact', 'that', 'it', 's', 'A', 'lot', 'of', 'the', 'time', 'I', 'think', 'Actually', 'you', 'know', 'what', 'this', 'would', 'be', 'better', 'as', 'just', 'paper', 'and', 'pencil', 'There', 's', 'something', 'more', 'nice', 'about', 'the', 'tactility', 'of', 'that', 'Whereas', 'this', 'the', 'quick', 'pace', 'of', 'it', 'of', 'like', 'Write', 'a', 'thing', 'on', 'rub', 'it', 'out', 'write', 'a', 'thing', 'on', 'rub', 'it', 'out', 'and', 'the', 'wonderful', 'clackiness', 'of', 'the', 'plastic', 'things', 'as', 'you', 'flip', 'them', 'around', 'and', 'rotate', 'them', 'Quinns', 'talking', 'over', 'Matt', 'Everyone', 'rotating', 'their', 'place', 'setting', 'around', 'yeah', 'Matt', 'is', 'really', 'very', 'nice', 'Quinns', 'Yeah', 'no', 'I', 'thought', 'so', 'as', 'well', 'If', 'you', 're', 'looking', 'for', 'a', 'party', 'game', 'that', 's', 'just', 'a', 'sure-fire', 'crowd-pleaser', 'that', 'might', 'not', 'get', 'anyone', 'excited', 'but', 'is', 'just', 'startlingly', 'entertaining', 'Matt', 'It', 's', 'super', 'playable', 'Quinns', 'in', 'agreement', 'Playable', 'I', 'd', 'put', 'it', 'in', 'that', 'same', 'field', 'as', 'Skull', 'or', 'Cockroach', 'Poker', 'or', 'something', 'When', 'we', 'played', 'it', 'at', 'the', 'end', 'of', 'PAX', 'Unplugged', 'I', 'was', 'really', 'tired', 'and', 'someone', 'started', 'getting', 'it', 'out', 'and', 'I', 'was', 'like', 'Ehhhh', 'am', 'I', 'in', 'the', 'mood', 'for', 'a', 'party', 'game', 'or', 'whatever', 'And', 'then', 'we', 'started', 'playing', 'and', 'it', 's', 'like', 'immediately', 'someone', 'puts', 'a', 'pen', 'and', 'a', 'thing', 'in', 'front', 'of', 'you', 'and', 'then', 'you', 're', 'playing', 'and', 'it', 's', 'actually', 'like', 'This', 'is', 'fun', 'Quinns', 'I', 'completely', 'agree', 'Although', 'to', 'paraphrase', 'or', 'outright', 'steal', 'from', 'a', 'friend', 'of', 'ours', 'we', 'finished', 'playing', 'it', 'and', 'I', 'went', 'What', 'did', 'you', 'think', 'And', 'he', 'went', 'Yeah', 'I', 'enjoyed', 'it', 'but', 'Just', 'One', 'is', 'a', 'good', 'title', 'Implying', 'he', 'did', 'not', 'want', 'to', 'play', 'it', 'more', 'than', 'once', 'Matt', 'Fair', 'Quinns', 'And', 'I', 'felt', 'the', 'same', 'way', 'but', 'then', 'when', 'it', 'got', 'brought', 'out', 'again', 'later', 'I', 'thought', 'I', 'll', 'play', 'it', 'just', 'once', 'more', 'Matt', 'Just', 'once', 'more', 'That', 's', 'how', 'they', 'get', 'you', 'Quinns', 'So', 'that', 's', 'Just', 'One', 'a', 'game', 'about', 'addiction-n', 'sort', 'of']\n"
     ]
    }
   ],
   "source": [
    "#print punctuation for one game\n",
    "print(cleared_tokens[1])"
   ]
  },
  {
   "cell_type": "code",
   "execution_count": 235,
   "metadata": {},
   "outputs": [],
   "source": [
    "#removing stop words\n",
    "filtered_sentences = []\n",
    "for sentence in cleared_tokens:\n",
    "    filtered_sentences.append([w for w in sentence if not w in stop_words])\n",
    "\n",
    "#print filtered sentences\n",
    "print(filtered_sentences)"
   ]
  },
  {
   "cell_type": "code",
   "execution_count": 242,
   "metadata": {},
   "outputs": [
    {
     "name": "stdout",
     "output_type": "stream",
     "text": [
      "{'Quinns': 7, 'Let': 2, 'talk': 1, 'briefly': 1, 'Blackout': 4, 'Hong': 5, 'Kong': 5, 'eurogame': 2, 'Alexander': 2, 'Pfister': 3, 'I': 34, 'got': 7, 'excited': 5, 'couple': 1, 'episodes': 1, 'ago': 1, 'game': 10, 'running': 2, 'organization': 1, 'power': 2, 'cut': 1, 'keep': 3, 'city': 1, 'medicine': 3, 'food': 6, 'flowing': 2, 'You': 2, 'ta': 1, 'Matthew': 2, 'Matt': 6, 'And': 7, 'reasons': 1, 'every': 3, 'right': 3, 'actually': 2, 'coolest': 1, 'mechanics': 3, 'evocative': 1, 'cool': 4, 'The': 2, 'whole': 1, 'thing': 5, 'send': 1, 'people': 4, 'scout': 1, 'recon': 1, 'time': 1, 'lose': 1, 'somebody': 1, 'group/gang': 1, 'depending': 1, 'kind': 3, 'unsavory': 1, 'types': 2, 'hiring': 1, 'Very': 1, 'interesting': 4, 'We': 3, 'played': 8, 'bunch': 1, 'Philadelphia': 1, 'honest': 1, 'found': 1, 'It': 4, 'competent': 1, 'puzzle': 2, 'Mr': 1, 'thematic': 5, 'flair': 1, 'Great': 5, 'Western': 5, 'Trail': 5, 'This': 2, 'really': 8, 'public': 1, 'service': 1, 'announcement': 1, 'think': 4, 'also': 2, 'pretty': 3, 'hype': 1, 'yeah': 3, 'staying': 1, 'economy': 1, 'management': 1, 'games': 4, 'recommend': 2, 'thinking': 2, 'usually': 1, '–': 4, 'know': 4, 'eurogames': 2, 'lot': 1, 'recently': 1, 'like': 14, 'fabulous': 1, 'A': 5, 'Feast': 3, 'For': 3, 'Odin': 3, 'would': 3, 'finish': 1, 'go': 4, 'Yeah': 3, 'well': 3, 'Yup': 1, 'sure': 1, 'But': 5, 'taking': 2, 'one': 3, 'next': 1, 'knowledge': 1, 'wrong': 1, 'try': 3, 'sort': 1, 'made': 1, 'sense': 2, 'exciting': 1, 'key': 1, 'felt': 3, 'whilst': 1, 'different': 10, 'theme': 2, 'stock': 1, 'survival': 1, 'aspects': 1, 'whether': 2, 'gon': 6, 'na': 6, 'get': 7, 'water': 2, 'fuel': 2, 'feeling': 1, 'difference': 2, 'generally': 1, 'Like': 1, 'maybe': 3, 'could': 3, 'make': 6, 'big': 2, 'gang': 2, 'feel': 2, 'unlike': 1, 'Maybe': 2, 'ride': 1, 'train': 1, 'far': 1, 'award-winning': 1, 'cows': 1, 'That': 2, 'enough': 2, 'If': 1, 'sound': 1, 'completely': 1, 'insane': 1, 'approach': 1, 'choice': 2, 'choose': 1, 'Even': 1, 'though': 1, 'sometimes': 1, 'Okay': 2, 'feels': 2, 'admirable': 1, 'tried': 1, 'use': 2, 'euro': 1, 'moving': 1, 'cubes': 2, 'around': 1, 'tools': 1, 'playing': 1, 'Wood': 1, 'Or': 1, 'carrots': 1, 'Then': 1, 'bad': 1, 'struggled': 1, 'correctly': 1, 'convey': 1, 'emotional': 1, 'abstraction': 1, 'possible': 1, 'guess': 1, 'question': 2, 'minds': 1, 'smarter': 1, 'us': 1, 'dealing': 1, 'farming': 2, 'Agricola': 1, 'grand-daddy': 1, 'many': 1, 'sorts': 1, 'complicated': 1, 'simulator': 1, 'Carrot': 1, 'Child': 1, 'bricks': 2, 'wall': 1, 'resources': 4, 'applied': 1, 'differently': 1, 'course': 1, 'might': 2, 'logically': 1, 'assume': 1, 'making': 1, 'set': 1, '21st': 2, 'century': 2, 'batteries': 2, 'delivering': 1, 'population': 1, 'large': 1, 'scale': 3, 'suppose': 1, 'redesigning': 1, 'scratch': 1, 'way': 2, 'fit': 1, 'adequately': 1, 'much': 2, 'smaller': 2, 'Because': 1, 'eight': 1, 'going': 1, 'tangible': 1, 'things': 1, 'group': 1, 'Well': 1, 'bit': 1, 'sci': 1, 'fi': 1, 'often': 1, 'work': 2, 'design': 1, 'stories': 1, 'harder': 1, 'envision': 1, 'good': 1, 'euros': 1, 'Oh': 1, 'combine': 1, 'two': 1, 'building': 1, 'loosely': 1, 'makes': 1, 'immediately': 1, 'obvious': 1, 'When': 1, 'abstract': 1, 'combinations': 1, 'eh': 1, 'even': 2, 'fact': 1, 'art': 1, 'character': 1, 'looking': 1, 'became': 1, 'purely': 1, 'mechanical': 1, 'There': 1, 'format': 1, 'convert': 1, 'settings': 1, 'best-suited': 1, 'build': 1, 'stuff': 1, 'mean': 1, 'certainly': 1, 'easier': 1, 'unpick': 1, 'mentioned': 1, 'earlier': 1, 'necklace': 3, 'bizarre-shaped': 1, 'brick': 1, 'put': 1, 'player': 1, 'board': 1, 'proud': 1, 'mechanically': 1, 'effect': 1, 'shape': 1, 'belle': 1, 'fjord': 1, 'rest': 1, '2019': 1, 'better': 1, 'move': 1, 'Yes': 1, 'definitely': 1, 'perhaps': 1, 'buying': 1, 'example': 1, 'lots': 1, 'Isle': 1, 'Skye': 1}\n"
     ]
    }
   ],
   "source": [
    "#wordfreq for game 1\n",
    "wordfreq = {}\n",
    "for sentence in filtered_sentences[0]:\n",
    "    tokens = nltk.word_tokenize(sentence)\n",
    "    for token in tokens:\n",
    "        if token not in wordfreq.keys():\n",
    "            wordfreq[token] = 1\n",
    "        else:\n",
    "            wordfreq[token] += 1\n",
    "print(wordfreq)            "
   ]
  },
  {
   "cell_type": "code",
   "execution_count": 243,
   "metadata": {},
   "outputs": [
    {
     "name": "stdout",
     "output_type": "stream",
     "text": [
      "['I', 'like', 'game', 'different', 'played', 'really', 'Quinns', 'got', 'And', 'get', 'food', 'Matt', 'gon', 'na', 'make', 'Hong', 'Kong', 'excited', 'thing', 'thematic', 'Great', 'Western', 'Trail', 'A', 'But', 'Blackout', 'cool', 'people', 'interesting', 'It', 'think', 'games', '–', 'know', 'go', 'resources', 'Pfister', 'keep', 'medicine', 'every', 'right', 'mechanics', 'kind', 'We', 'pretty', 'yeah', 'Feast', 'For', 'Odin', 'would']\n"
     ]
    }
   ],
   "source": [
    "#printing top 50 most frequent words for boardgame 1\n",
    "most_freq = heapq.nlargest(50, wordfreq, key=wordfreq.get)\n",
    "print(most_freq)"
   ]
  },
  {
   "cell_type": "markdown",
   "metadata": {},
   "source": [
    "## Webscrapping"
   ]
  },
  {
   "cell_type": "code",
   "execution_count": 7,
   "metadata": {},
   "outputs": [],
   "source": [
    "headers = {'User-Agent': 'Text mining'}\n",
    "\n",
    "# Construct the results table\n",
    "boardgameList = ['Just One']\n",
    "listhashed = [i.replace(' ', '%20') for i in boardgameList]\n",
    "summaryTable = pd.DataFrame()\n",
    "\n",
    "for j in listhashed:\n",
    "    # Load the webpage\n",
    "    \n",
    "    r = requests.get('https://boardgamegeek.com/geeksearch.php?action=search&objecttype=boardgame&q={}'.format(j), headers=headers)\n",
    "    \n",
    "    # Convert to BS\n",
    "    bs = BeautifulSoup(r.text)\n",
    "    \n",
    "    # Find the right table\n",
    "    table = bs.findAll(lambda tag: tag.name=='table' and tag.has_attr('cellpadding'))\n",
    "    #mydivs = bs.findAll(\"div\", {\"class\": \"table-responsive\"})\n",
    "    errors = bs.findAll(text=\"No Items Found\")\n",
    "   \n",
    "    if not errors:\n",
    "           \n",
    "        tableHTML = table[0]\n",
    "        #tableHTML = mydivs[0]\n",
    "        # Convert the HTML of the table to pandas (very usefull function)\n",
    "        pandasTable = pd.read_html(str(tableHTML), header=0)[0]\n",
    "\n",
    "        # Extract all the links\n",
    "        urls = [np.where(tag.has_attr('href'),tag.get('href'),\"no link\") for tag in tableHTML.find_all('a')]\n",
    "        urls = pd.DataFrame(urls)\n",
    "        urls = urls[0][6]\n",
    "\n",
    "        # Merge the links into the DF\n",
    "        pandasTable['link'] = urls\n",
    "\n",
    "        # Drop unused columns\n",
    "        pandasTable = pandasTable.drop(['Unnamed: 1', 'Shop'], axis = 1)\n",
    "\n",
    "        # Create or extend the existing summary table\n",
    "        if summaryTable.empty:\n",
    "            summaryTable = pandasTable\n",
    "        else:\n",
    "            summaryTable = pd.concat([summaryTable, pandasTable],ignore_index=True)\n",
    "    else:\n",
    "        next"
   ]
  },
  {
   "cell_type": "code",
   "execution_count": 8,
   "metadata": {},
   "outputs": [
    {
     "data": {
      "text/html": [
       "<div>\n",
       "<style scoped>\n",
       "    .dataframe tbody tr th:only-of-type {\n",
       "        vertical-align: middle;\n",
       "    }\n",
       "\n",
       "    .dataframe tbody tr th {\n",
       "        vertical-align: top;\n",
       "    }\n",
       "\n",
       "    .dataframe thead th {\n",
       "        text-align: right;\n",
       "    }\n",
       "</style>\n",
       "<table border=\"1\" class=\"dataframe\">\n",
       "  <thead>\n",
       "    <tr style=\"text-align: right;\">\n",
       "      <th></th>\n",
       "      <th>Board Game Rank</th>\n",
       "      <th>Title</th>\n",
       "      <th>Geek Rating</th>\n",
       "      <th>Avg Rating</th>\n",
       "      <th>Num Voters</th>\n",
       "      <th>link</th>\n",
       "    </tr>\n",
       "  </thead>\n",
       "  <tbody>\n",
       "    <tr>\n",
       "      <td>0</td>\n",
       "      <td>219.0</td>\n",
       "      <td>Just One (2018)</td>\n",
       "      <td>7.209</td>\n",
       "      <td>7.61</td>\n",
       "      <td>6196</td>\n",
       "      <td>/boardgame/254640/just-one</td>\n",
       "    </tr>\n",
       "    <tr>\n",
       "      <td>1</td>\n",
       "      <td>NaN</td>\n",
       "      <td>Port Royal: Just One More Contract... (2015)</td>\n",
       "      <td>6.549</td>\n",
       "      <td>7.53</td>\n",
       "      <td>1461</td>\n",
       "      <td>/boardgame/254640/just-one</td>\n",
       "    </tr>\n",
       "    <tr>\n",
       "      <td>2</td>\n",
       "      <td>NaN</td>\n",
       "      <td>Just One Die Soccer (2009)</td>\n",
       "      <td>NaN</td>\n",
       "      <td>1.00</td>\n",
       "      <td>1</td>\n",
       "      <td>/boardgame/254640/just-one</td>\n",
       "    </tr>\n",
       "    <tr>\n",
       "      <td>3</td>\n",
       "      <td>NaN</td>\n",
       "      <td>Just One: Deutscher Spielepreis Classic Goodie...</td>\n",
       "      <td>NaN</td>\n",
       "      <td>6.64</td>\n",
       "      <td>7</td>\n",
       "      <td>/boardgame/254640/just-one</td>\n",
       "    </tr>\n",
       "    <tr>\n",
       "      <td>4</td>\n",
       "      <td>NaN</td>\n",
       "      <td>Just One: Gathering of Friends Promo Cards (2019)</td>\n",
       "      <td>NaN</td>\n",
       "      <td>7.00</td>\n",
       "      <td>3</td>\n",
       "      <td>/boardgame/254640/just-one</td>\n",
       "    </tr>\n",
       "    <tr>\n",
       "      <td>5</td>\n",
       "      <td>NaN</td>\n",
       "      <td>Cocks Abreast Hostility: Cock Pack One – Just ...</td>\n",
       "      <td>NaN</td>\n",
       "      <td>7.71</td>\n",
       "      <td>7</td>\n",
       "      <td>/boardgame/254640/just-one</td>\n",
       "    </tr>\n",
       "  </tbody>\n",
       "</table>\n",
       "</div>"
      ],
      "text/plain": [
       "   Board Game Rank                                              Title  \\\n",
       "0            219.0                                    Just One (2018)   \n",
       "1              NaN       Port Royal: Just One More Contract... (2015)   \n",
       "2              NaN                         Just One Die Soccer (2009)   \n",
       "3              NaN  Just One: Deutscher Spielepreis Classic Goodie...   \n",
       "4              NaN  Just One: Gathering of Friends Promo Cards (2019)   \n",
       "5              NaN  Cocks Abreast Hostility: Cock Pack One – Just ...   \n",
       "\n",
       "   Geek Rating  Avg Rating  Num Voters                        link  \n",
       "0        7.209        7.61        6196  /boardgame/254640/just-one  \n",
       "1        6.549        7.53        1461  /boardgame/254640/just-one  \n",
       "2          NaN        1.00           1  /boardgame/254640/just-one  \n",
       "3          NaN        6.64           7  /boardgame/254640/just-one  \n",
       "4          NaN        7.00           3  /boardgame/254640/just-one  \n",
       "5          NaN        7.71           7  /boardgame/254640/just-one  "
      ]
     },
     "metadata": {},
     "output_type": "display_data"
    }
   ],
   "source": [
    "display(summaryTable)"
   ]
  },
  {
   "cell_type": "code",
   "execution_count": 9,
   "metadata": {},
   "outputs": [],
   "source": [
    "# Loading the firefox webdriver\n",
    "driver = webdriver.Chrome('/Users/korneliusz.krysiak/Dropbox/TextMining/chromedriver')"
   ]
  },
  {
   "cell_type": "code",
   "execution_count": 10,
   "metadata": {},
   "outputs": [
    {
     "ename": "ValueError",
     "evalue": "invalid literal for int() with base 10: '53  Find For-Trade Matches'",
     "output_type": "error",
     "traceback": [
      "\u001b[0;31m---------------------------------------------------------------------------\u001b[0m",
      "\u001b[0;31mValueError\u001b[0m                                Traceback (most recent call last)",
      "\u001b[0;32m<ipython-input-10-7935f8631ab7>\u001b[0m in \u001b[0;36m<module>\u001b[0;34m\u001b[0m\n\u001b[1;32m     33\u001b[0m     \u001b[0;32mfor\u001b[0m \u001b[0mi\u001b[0m \u001b[0;32min\u001b[0m \u001b[0mrange\u001b[0m\u001b[0;34m(\u001b[0m\u001b[0mlen\u001b[0m\u001b[0;34m(\u001b[0m\u001b[0mdata2\u001b[0m\u001b[0;34m[\u001b[0m\u001b[0;36m4\u001b[0m\u001b[0;34m:\u001b[0m\u001b[0;34m]\u001b[0m\u001b[0;34m)\u001b[0m\u001b[0;34m+\u001b[0m\u001b[0;36m1\u001b[0m\u001b[0;34m)\u001b[0m\u001b[0;34m:\u001b[0m\u001b[0;34m\u001b[0m\u001b[0;34m\u001b[0m\u001b[0m\n\u001b[1;32m     34\u001b[0m         \u001b[0mi\u001b[0m \u001b[0;34m=\u001b[0m \u001b[0mi\u001b[0m\u001b[0;34m+\u001b[0m\u001b[0;36m3\u001b[0m\u001b[0;34m\u001b[0m\u001b[0;34m\u001b[0m\u001b[0m\n\u001b[0;32m---> 35\u001b[0;31m         \u001b[0mdata2\u001b[0m\u001b[0;34m[\u001b[0m\u001b[0mi\u001b[0m\u001b[0;34m]\u001b[0m \u001b[0;34m=\u001b[0m \u001b[0mint\u001b[0m\u001b[0;34m(\u001b[0m\u001b[0mdata2\u001b[0m\u001b[0;34m[\u001b[0m\u001b[0mi\u001b[0m\u001b[0;34m]\u001b[0m\u001b[0;34m)\u001b[0m\u001b[0;34m\u001b[0m\u001b[0;34m\u001b[0m\u001b[0m\n\u001b[0m\u001b[1;32m     36\u001b[0m \u001b[0;34m\u001b[0m\u001b[0m\n\u001b[1;32m     37\u001b[0m     \u001b[0;31m# Special case - two categories. We want to drop both\u001b[0m\u001b[0;34m\u001b[0m\u001b[0;34m\u001b[0m\u001b[0;34m\u001b[0m\u001b[0m\n",
      "\u001b[0;31mValueError\u001b[0m: invalid literal for int() with base 10: '53  Find For-Trade Matches'"
     ]
    }
   ],
   "source": [
    "# Construct the results table\n",
    "detailedTable = pd.DataFrame(columns=['Title','Average Rating','Number of ratings','Std.dev','Number of Comments','Fans','Page Views','Overall Ranking','All Time Plays','Played This Month', 'Own', 'Previously Owned','For Trade','Want in Trade','Wishlist','Has Parts','Want Parts'])\n",
    "detailedTable2 = pd.DataFrame()\n",
    "\n",
    "for j in range(1):\n",
    "    # Load the webpage\n",
    "    driver.get('https://boardgamegeek.com{}/stats'.format(summaryTable['link'][j]))\n",
    "    \n",
    "    # Get the source code and make it BS\n",
    "    pageSource = driver.page_source\n",
    "    bs = BeautifulSoup(pageSource, \"lxml\")\n",
    "    \n",
    "    # Find the relevant table\n",
    "    data = bs.findAll('div',{'class':'outline-item-description'})\n",
    "    \n",
    "    # Loop over and strip spaces\n",
    "    data2 = []\n",
    "    for i in data:\n",
    "        data2.append(i.get_text().strip())\n",
    "\n",
    "    # Remove the ',' \n",
    "    for i in range(len(data2)):\n",
    "        data2[i] = data2[i].replace(\",\",\"\")\n",
    "\n",
    "    # Wrangle the columns\n",
    "    data2[3] = data2[3][0:4]\n",
    "    data2[0] = float(data2[0])\n",
    "    data2[1] = int(data2[1]) \n",
    "    data2[2] = float(data2[2])\n",
    "    data2[3] = float(data2[3]) \n",
    "\n",
    "    # Convert to int\n",
    "    for i in range(len(data2[4:])+1):\n",
    "        i = i+3\n",
    "        data2[i] = int(data2[i])\n",
    "\n",
    "    # Special case - two categories. We want to drop both\n",
    "    if len(data2) == 19:\n",
    "        data2.pop(8)\n",
    "        data2.pop(8)\n",
    "    else:\n",
    "        data2.pop(8)\n",
    "    \n",
    "    # Insert the data\n",
    "    data2.insert(0,summaryTable['Title'][j]) \n",
    "    detailedTable.loc[len(detailedTable)] = data2"
   ]
  },
  {
   "cell_type": "code",
   "execution_count": 11,
   "metadata": {},
   "outputs": [
    {
     "data": {
      "text/html": [
       "<div>\n",
       "<style scoped>\n",
       "    .dataframe tbody tr th:only-of-type {\n",
       "        vertical-align: middle;\n",
       "    }\n",
       "\n",
       "    .dataframe tbody tr th {\n",
       "        vertical-align: top;\n",
       "    }\n",
       "\n",
       "    .dataframe thead th {\n",
       "        text-align: right;\n",
       "    }\n",
       "</style>\n",
       "<table border=\"1\" class=\"dataframe\">\n",
       "  <thead>\n",
       "    <tr style=\"text-align: right;\">\n",
       "      <th></th>\n",
       "      <th>Title</th>\n",
       "      <th>Average Rating</th>\n",
       "      <th>Number of ratings</th>\n",
       "      <th>Std.dev</th>\n",
       "      <th>Number of Comments</th>\n",
       "      <th>Fans</th>\n",
       "      <th>Page Views</th>\n",
       "      <th>Overall Ranking</th>\n",
       "      <th>All Time Plays</th>\n",
       "      <th>Played This Month</th>\n",
       "      <th>Own</th>\n",
       "      <th>Previously Owned</th>\n",
       "      <th>For Trade</th>\n",
       "      <th>Want in Trade</th>\n",
       "      <th>Wishlist</th>\n",
       "      <th>Has Parts</th>\n",
       "      <th>Want Parts</th>\n",
       "    </tr>\n",
       "  </thead>\n",
       "  <tbody>\n",
       "  </tbody>\n",
       "</table>\n",
       "</div>"
      ],
      "text/plain": [
       "Empty DataFrame\n",
       "Columns: [Title, Average Rating, Number of ratings, Std.dev, Number of Comments, Fans, Page Views, Overall Ranking, All Time Plays, Played This Month, Own, Previously Owned, For Trade, Want in Trade, Wishlist, Has Parts, Want Parts]\n",
       "Index: []"
      ]
     },
     "metadata": {},
     "output_type": "display_data"
    }
   ],
   "source": [
    "display(detailedTable)"
   ]
  },
  {
   "cell_type": "code",
   "execution_count": null,
   "metadata": {},
   "outputs": [],
   "source": [
    "# twoja kolej Michal"
   ]
  }
 ],
 "metadata": {
  "kernelspec": {
   "display_name": "Python 3",
   "language": "python",
   "name": "python3"
  },
  "language_info": {
   "codemirror_mode": {
    "name": "ipython",
    "version": 3
   },
   "file_extension": ".py",
   "mimetype": "text/x-python",
   "name": "python",
   "nbconvert_exporter": "python",
   "pygments_lexer": "ipython3",
   "version": "3.7.4"
  }
 },
 "nbformat": 4,
 "nbformat_minor": 4
}
