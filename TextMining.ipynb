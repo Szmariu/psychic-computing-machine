{
 "cells": [
  {
   "cell_type": "markdown",
   "metadata": {},
   "source": [
    "# Libraries"
   ]
  },
  {
   "cell_type": "markdown",
   "metadata": {},
   "source": [
    "## To do\n",
    "- Połączyć dane z kaggle\n",
    "- Zrobić na tabeli per gość"
   ]
  },
  {
   "cell_type": "markdown",
   "metadata": {},
   "source": [
    "## Libraries"
   ]
  },
  {
   "cell_type": "code",
   "execution_count": 1,
   "metadata": {},
   "outputs": [],
   "source": [
    "import requests\n",
    "from bs4 import BeautifulSoup\n",
    "import csv\n",
    "from datetime import datetime\n",
    "from lxml import etree\n",
    "import pandas as pd\n",
    "import numpy as np\n",
    "from selenium import webdriver\n",
    "from selenium.webdriver.support.ui import Select\n",
    "from time import sleep\n",
    "import re\n",
    "from docx import Document\n",
    "import nltk\n",
    "from itertools import chain\n",
    "import heapq\n",
    "from nltk.corpus import stopwords\n",
    "from nltk.tokenize import word_tokenize \n",
    "import string"
   ]
  },
  {
   "cell_type": "markdown",
   "metadata": {},
   "source": [
    "### Stopwords"
   ]
  },
  {
   "cell_type": "code",
   "execution_count": 2,
   "metadata": {},
   "outputs": [
    {
     "name": "stderr",
     "output_type": "stream",
     "text": [
      "[nltk_data] Downloading package punkt to\n",
      "[nltk_data]     C:\\Users\\szmar\\AppData\\Roaming\\nltk_data...\n",
      "[nltk_data]   Package punkt is already up-to-date!\n",
      "[nltk_data] Downloading package stopwords to\n",
      "[nltk_data]     C:\\Users\\szmar\\AppData\\Roaming\\nltk_data...\n",
      "[nltk_data]   Package stopwords is already up-to-date!\n"
     ]
    },
    {
     "data": {
      "text/plain": [
       "True"
      ]
     },
     "execution_count": 2,
     "metadata": {},
     "output_type": "execute_result"
    }
   ],
   "source": [
    "nltk.download('punkt')\n",
    "nltk.download('stopwords')"
   ]
  },
  {
   "cell_type": "markdown",
   "metadata": {},
   "source": [
    "# Data import and transformation"
   ]
  },
  {
   "cell_type": "markdown",
   "metadata": {},
   "source": [
    "## Import the Word documents"
   ]
  },
  {
   "cell_type": "code",
   "execution_count": 3,
   "metadata": {},
   "outputs": [],
   "source": [
    "document_list = []\n",
    "for i in range(9):\n",
    "    document = Document('data/raw/Podcast_9{}.docx'.format(i))\n",
    "    document_list.append(document)"
   ]
  },
  {
   "cell_type": "markdown",
   "metadata": {},
   "source": [
    "### Define a function to extract headings"
   ]
  },
  {
   "cell_type": "code",
   "execution_count": 4,
   "metadata": {},
   "outputs": [],
   "source": [
    "def iter_headings(paragraphs):\n",
    "    for paragraph in paragraphs:\n",
    "        if paragraph.style.name.startswith('Heading'):\n",
    "            yield paragraph"
   ]
  },
  {
   "cell_type": "markdown",
   "metadata": {},
   "source": [
    "### Proces the documents"
   ]
  },
  {
   "cell_type": "code",
   "execution_count": 19,
   "metadata": {},
   "outputs": [],
   "source": [
    "results = pd.DataFrame()\n",
    "\n",
    "for z in document_list:\n",
    "    \n",
    "    # Create an empty list for all headings\n",
    "    heading_list = []\n",
    "    \n",
    "    # Extraction headings from this document\n",
    "    for heading in iter_headings(z.paragraphs):\n",
    "        heading_list.append(heading.text)\n",
    "\n",
    "    # Remove the intro and outro\n",
    "    heading_list = heading_list[1:-1]\n",
    "    \n",
    "    text_lines = []\n",
    "\n",
    "    for i,para in enumerate(z.paragraphs):\n",
    "        if para.text in heading_list:\n",
    "            text_lines.append(i)\n",
    "\n",
    "    #extracting text lines for games only (without intro and outro)       \n",
    "    gamesText = []\n",
    "    for k,j in enumerate(text_lines):\n",
    "        for y, parar in enumerate(z.paragraphs):\n",
    "            if y>=text_lines[k]:\n",
    "                gamesText.append(parar.text)\n",
    "\n",
    "    #creating list mapping where we get the in-text position of heading (number of line)            \n",
    "    text_lines2 = [text_lines[n]-text_lines[0] for n in range(1,len(text_lines))]\n",
    "    text_lines2.insert(0,0)\n",
    "    \n",
    "    #Extracting text with respect to headings: list of dialogs related to specific game\n",
    "    extracted_text = []\n",
    "\n",
    "    for d,w in zip(text_lines2,text_lines2[1:]):\n",
    "        text = gamesText[d+1:w]\n",
    "        extracted_text.append(text) \n",
    "    \n",
    "    for game, text in zip(heading_list, extracted_text):\n",
    "        for sentence in text:\n",
    "            results = results.append({'game' : game, 'text': sentence}, ignore_index = True)"
   ]
  },
  {
   "cell_type": "markdown",
   "metadata": {},
   "source": [
    "### Make changes to the text"
   ]
  },
  {
   "cell_type": "code",
   "execution_count": 21,
   "metadata": {},
   "outputs": [],
   "source": [
    "# Remove the timestamp\n",
    "results['game'] = results['game'].map(lambda x: str(x)[:-11])\n",
    "\n",
    "# Split the text into person and speech\n",
    "new = results[\"text\"].str.split(\":\", n = 1, expand = True) \n",
    "  \n",
    "# Extract the person speaking\n",
    "results[\"person\"] = new[0] \n",
    "  \n",
    "# And what they are saying\n",
    "results[\"text\"] = new[1] \n",
    "\n",
    "# Drop if the formating was off\n",
    "results.dropna(inplace = True)\n",
    "\n",
    "# Just a preacusion\n",
    "results[results['person'].map(len) < 12]\n",
    "\n",
    "# Remove the part after their name\n",
    "results[\"person\"] = results[\"person\"].str.split(\" \", n = 1, expand = True)[0]\n",
    "\n",
    "# Remove \"This\" and \"And\"\n",
    "results = results[(results['person'] != 'This') & (results['person'] != 'And')]\n",
    "\n",
    "# One of the games is wrong\n",
    "results.replace('Twilight Imperium stream plug', 'Twilight Imperium', inplace = True)\n",
    "\n",
    "# Create a list of games\n",
    "games = results.game.unique()"
   ]
  },
  {
   "cell_type": "code",
   "execution_count": 22,
   "metadata": {},
   "outputs": [
    {
     "data": {
      "text/html": [
       "<div>\n",
       "<style scoped>\n",
       "    .dataframe tbody tr th:only-of-type {\n",
       "        vertical-align: middle;\n",
       "    }\n",
       "\n",
       "    .dataframe tbody tr th {\n",
       "        vertical-align: top;\n",
       "    }\n",
       "\n",
       "    .dataframe thead th {\n",
       "        text-align: right;\n",
       "    }\n",
       "</style>\n",
       "<table border=\"1\" class=\"dataframe\">\n",
       "  <thead>\n",
       "    <tr style=\"text-align: right;\">\n",
       "      <th></th>\n",
       "      <th>game</th>\n",
       "      <th>text</th>\n",
       "      <th>person</th>\n",
       "    </tr>\n",
       "  </thead>\n",
       "  <tbody>\n",
       "    <tr>\n",
       "      <th>0</th>\n",
       "      <td>Blackout: Hong Kong</td>\n",
       "      <td>Let’s talk briefly about Blackout: Hong Kong,...</td>\n",
       "      <td>Quinns</td>\n",
       "    </tr>\n",
       "    <tr>\n",
       "      <th>1</th>\n",
       "      <td>Blackout: Hong Kong</td>\n",
       "      <td>And the reasons you were excited about it, yo...</td>\n",
       "      <td>Matt</td>\n",
       "    </tr>\n",
       "    <tr>\n",
       "      <th>2</th>\n",
       "      <td>Blackout: Hong Kong</td>\n",
       "      <td>This is really more of a public service annou...</td>\n",
       "      <td>Quinns</td>\n",
       "    </tr>\n",
       "    <tr>\n",
       "      <th>3</th>\n",
       "      <td>Blackout: Hong Kong</td>\n",
       "      <td>I think “exciting to try” is the key thing fo...</td>\n",
       "      <td>Matt</td>\n",
       "    </tr>\n",
       "    <tr>\n",
       "      <th>4</th>\n",
       "      <td>Blackout: Hong Kong</td>\n",
       "      <td>If you haven’t played Great Western Trail, th...</td>\n",
       "      <td>Quinns</td>\n",
       "    </tr>\n",
       "    <tr>\n",
       "      <th>...</th>\n",
       "      <td>...</td>\n",
       "      <td>...</td>\n",
       "      <td>...</td>\n",
       "    </tr>\n",
       "    <tr>\n",
       "      <th>3470</th>\n",
       "      <td>Too Many Bones</td>\n",
       "      <td>Yup.</td>\n",
       "      <td>Quinns</td>\n",
       "    </tr>\n",
       "    <tr>\n",
       "      <th>3471</th>\n",
       "      <td>Too Many Bones</td>\n",
       "      <td>And it’s like, cool! Good!</td>\n",
       "      <td>Matt</td>\n",
       "    </tr>\n",
       "    <tr>\n",
       "      <th>3472</th>\n",
       "      <td>Too Many Bones</td>\n",
       "      <td>I mean, yeah, that’s the number one thing abo...</td>\n",
       "      <td>Quinns</td>\n",
       "    </tr>\n",
       "    <tr>\n",
       "      <th>3473</th>\n",
       "      <td>Too Many Bones</td>\n",
       "      <td>Yeah. And also, why do you have to be boring?...</td>\n",
       "      <td>Matt</td>\n",
       "    </tr>\n",
       "    <tr>\n",
       "      <th>3474</th>\n",
       "      <td>Too Many Bones</td>\n",
       "      <td>I couldn’t agree more.</td>\n",
       "      <td>Quinns</td>\n",
       "    </tr>\n",
       "  </tbody>\n",
       "</table>\n",
       "<p>3375 rows × 3 columns</p>\n",
       "</div>"
      ],
      "text/plain": [
       "                     game                                               text  \\\n",
       "0     Blackout: Hong Kong   Let’s talk briefly about Blackout: Hong Kong,...   \n",
       "1     Blackout: Hong Kong   And the reasons you were excited about it, yo...   \n",
       "2     Blackout: Hong Kong   This is really more of a public service annou...   \n",
       "3     Blackout: Hong Kong   I think “exciting to try” is the key thing fo...   \n",
       "4     Blackout: Hong Kong   If you haven’t played Great Western Trail, th...   \n",
       "...                   ...                                                ...   \n",
       "3470       Too Many Bones                                               Yup.   \n",
       "3471       Too Many Bones                         And it’s like, cool! Good!   \n",
       "3472       Too Many Bones   I mean, yeah, that’s the number one thing abo...   \n",
       "3473       Too Many Bones   Yeah. And also, why do you have to be boring?...   \n",
       "3474       Too Many Bones                             I couldn’t agree more.   \n",
       "\n",
       "      person  \n",
       "0     Quinns  \n",
       "1       Matt  \n",
       "2     Quinns  \n",
       "3       Matt  \n",
       "4     Quinns  \n",
       "...      ...  \n",
       "3470  Quinns  \n",
       "3471    Matt  \n",
       "3472  Quinns  \n",
       "3473    Matt  \n",
       "3474  Quinns  \n",
       "\n",
       "[3375 rows x 3 columns]"
      ]
     },
     "execution_count": 22,
     "metadata": {},
     "output_type": "execute_result"
    }
   ],
   "source": [
    "results"
   ]
  },
  {
   "cell_type": "markdown",
   "metadata": {},
   "source": [
    "### Create per-game text table"
   ]
  },
  {
   "cell_type": "code",
   "execution_count": 55,
   "metadata": {},
   "outputs": [],
   "source": [
    "grouped_results = dict()\n",
    "\n",
    "for index, row in results.iterrows():\n",
    "    game = row[0]\n",
    "    text = row[1]\n",
    "    if game not in grouped_results:\n",
    "        grouped_results[game] = text\n",
    "    else:\n",
    "        grouped_results[game] = grouped_results[game] + ' ' + text\n",
    "        \n",
    "grouped_results = pd.DataFrame(list(grouped_results.items()), columns=['game', 'text'])"
   ]
  },
  {
   "cell_type": "code",
   "execution_count": 56,
   "metadata": {},
   "outputs": [
    {
     "data": {
      "text/html": [
       "<div>\n",
       "<style scoped>\n",
       "    .dataframe tbody tr th:only-of-type {\n",
       "        vertical-align: middle;\n",
       "    }\n",
       "\n",
       "    .dataframe tbody tr th {\n",
       "        vertical-align: top;\n",
       "    }\n",
       "\n",
       "    .dataframe thead th {\n",
       "        text-align: right;\n",
       "    }\n",
       "</style>\n",
       "<table border=\"1\" class=\"dataframe\">\n",
       "  <thead>\n",
       "    <tr style=\"text-align: right;\">\n",
       "      <th></th>\n",
       "      <th>game</th>\n",
       "      <th>text</th>\n",
       "    </tr>\n",
       "  </thead>\n",
       "  <tbody>\n",
       "    <tr>\n",
       "      <th>0</th>\n",
       "      <td>Blackout: Hong Kong</td>\n",
       "      <td>Let’s talk briefly about Blackout: Hong Kong,...</td>\n",
       "    </tr>\n",
       "    <tr>\n",
       "      <th>1</th>\n",
       "      <td>Just One</td>\n",
       "      <td>Let’s talk about something a bit more positiv...</td>\n",
       "    </tr>\n",
       "    <tr>\n",
       "      <th>2</th>\n",
       "      <td>Sumer</td>\n",
       "      <td>Let’s shift gears completely, Matthew. Let’s ...</td>\n",
       "    </tr>\n",
       "    <tr>\n",
       "      <th>3</th>\n",
       "      <td>The Quacks of Quedlinburg</td>\n",
       "      <td>Let’s talk about a game that has been excitin...</td>\n",
       "    </tr>\n",
       "    <tr>\n",
       "      <th>4</th>\n",
       "      <td>Schummel Hummel</td>\n",
       "      <td>Okay, let’s talk about a little card game, wh...</td>\n",
       "    </tr>\n",
       "    <tr>\n",
       "      <th>...</th>\n",
       "      <td>...</td>\n",
       "      <td>...</td>\n",
       "    </tr>\n",
       "    <tr>\n",
       "      <th>61</th>\n",
       "      <td>Silk</td>\n",
       "      <td>So I’ve been playing a little game called Sil...</td>\n",
       "    </tr>\n",
       "    <tr>\n",
       "      <th>62</th>\n",
       "      <td>Pandemic: Rapid Response</td>\n",
       "      <td>I’ve played a couple of real-time co-op games...</td>\n",
       "    </tr>\n",
       "    <tr>\n",
       "      <th>63</th>\n",
       "      <td>Rail Pass</td>\n",
       "      <td>What I did have a great time with is somethin...</td>\n",
       "    </tr>\n",
       "    <tr>\n",
       "      <th>64</th>\n",
       "      <td>Crokinole</td>\n",
       "      <td>Let’s talk a little bit just about the review...</td>\n",
       "    </tr>\n",
       "    <tr>\n",
       "      <th>65</th>\n",
       "      <td>Too Many Bones</td>\n",
       "      <td>And then coming up in a couple days -- just t...</td>\n",
       "    </tr>\n",
       "  </tbody>\n",
       "</table>\n",
       "<p>66 rows × 2 columns</p>\n",
       "</div>"
      ],
      "text/plain": [
       "                         game  \\\n",
       "0         Blackout: Hong Kong   \n",
       "1                    Just One   \n",
       "2                       Sumer   \n",
       "3   The Quacks of Quedlinburg   \n",
       "4             Schummel Hummel   \n",
       "..                        ...   \n",
       "61                       Silk   \n",
       "62   Pandemic: Rapid Response   \n",
       "63                  Rail Pass   \n",
       "64                  Crokinole   \n",
       "65             Too Many Bones   \n",
       "\n",
       "                                                 text  \n",
       "0    Let’s talk briefly about Blackout: Hong Kong,...  \n",
       "1    Let’s talk about something a bit more positiv...  \n",
       "2    Let’s shift gears completely, Matthew. Let’s ...  \n",
       "3    Let’s talk about a game that has been excitin...  \n",
       "4    Okay, let’s talk about a little card game, wh...  \n",
       "..                                                ...  \n",
       "61   So I’ve been playing a little game called Sil...  \n",
       "62   I’ve played a couple of real-time co-op games...  \n",
       "63   What I did have a great time with is somethin...  \n",
       "64   Let’s talk a little bit just about the review...  \n",
       "65   And then coming up in a couple days -- just t...  \n",
       "\n",
       "[66 rows x 2 columns]"
      ]
     },
     "execution_count": 56,
     "metadata": {},
     "output_type": "execute_result"
    }
   ],
   "source": [
    "grouped_results"
   ]
  },
  {
   "cell_type": "markdown",
   "metadata": {},
   "source": [
    "## Text transformation"
   ]
  },
  {
   "cell_type": "markdown",
   "metadata": {},
   "source": [
    "### For now - each game as one text"
   ]
  },
  {
   "cell_type": "markdown",
   "metadata": {},
   "source": [
    "### Tokenization"
   ]
  },
  {
   "cell_type": "code",
   "execution_count": 114,
   "metadata": {},
   "outputs": [],
   "source": [
    "grouped_results['formated_text'] = grouped_results['text'].map(lambda x: x.split())"
   ]
  },
  {
   "cell_type": "markdown",
   "metadata": {},
   "source": [
    "### Remove punctuation and stop words"
   ]
  },
  {
   "cell_type": "code",
   "execution_count": 118,
   "metadata": {},
   "outputs": [],
   "source": [
    "# Stopwords\n",
    "def remove_words(text):\n",
    "    keep = []\n",
    "    stop_words = list(stopwords.words('english')) + ['I', 'i', 'a', 'A', \"it's\"]\n",
    "    punctuation = list(string.punctuation) + [\"''\", \"_\", \"“\", \"’\", \"…\", \"[\", \"-\", \"”\", \"–\"]\n",
    "    \n",
    "    for word in text:\n",
    "        word = word.lower()\n",
    "        if word not in stop_words:\n",
    "            clean_word = ''\n",
    "            for letter in word:\n",
    "                if letter not in punctuation:\n",
    "                    clean_word += letter.lower()\n",
    "                    \n",
    "            if clean_word != '': \n",
    "                keep.append(clean_word)      \n",
    "    return keep\n",
    "\n",
    "grouped_results['formated_text'] = grouped_results['formated_text'].map(remove_words)"
   ]
  },
  {
   "cell_type": "markdown",
   "metadata": {},
   "source": [
    "### Calculate word frequency for all reviews"
   ]
  },
  {
   "cell_type": "code",
   "execution_count": 119,
   "metadata": {},
   "outputs": [],
   "source": [
    "frequency = {}\n",
    "\n",
    "for index, row in grouped_results.iterrows():\n",
    "    text = row[2]\n",
    "    \n",
    "    for word in text:\n",
    "        if word not in frequency.keys():\n",
    "            frequency[word] = 1\n",
    "        else:\n",
    "            frequency[word] += 1\n",
    "\n",
    "# Convert to a dataframe\n",
    "frequency = pd.DataFrame(list(frequency.items()), columns=['word', 'frequency'])\n",
    "\n",
    "# Sort by frequency\n",
    "frequency.sort_values('frequency', ascending = False, inplace = True)"
   ]
  },
  {
   "cell_type": "code",
   "execution_count": 120,
   "metadata": {},
   "outputs": [
    {
     "data": {
      "text/html": [
       "<div>\n",
       "<style scoped>\n",
       "    .dataframe tbody tr th:only-of-type {\n",
       "        vertical-align: middle;\n",
       "    }\n",
       "\n",
       "    .dataframe tbody tr th {\n",
       "        vertical-align: top;\n",
       "    }\n",
       "\n",
       "    .dataframe thead th {\n",
       "        text-align: right;\n",
       "    }\n",
       "</style>\n",
       "<table border=\"1\" class=\"dataframe\">\n",
       "  <thead>\n",
       "    <tr style=\"text-align: right;\">\n",
       "      <th></th>\n",
       "      <th>word</th>\n",
       "      <th>frequency</th>\n",
       "    </tr>\n",
       "  </thead>\n",
       "  <tbody>\n",
       "    <tr>\n",
       "      <th>88</th>\n",
       "      <td>like</td>\n",
       "      <td>1377</td>\n",
       "    </tr>\n",
       "    <tr>\n",
       "      <th>14</th>\n",
       "      <td>game</td>\n",
       "      <td>971</td>\n",
       "    </tr>\n",
       "    <tr>\n",
       "      <th>74</th>\n",
       "      <td>yeah</td>\n",
       "      <td>933</td>\n",
       "    </tr>\n",
       "    <tr>\n",
       "      <th>66</th>\n",
       "      <td>really</td>\n",
       "      <td>625</td>\n",
       "    </tr>\n",
       "    <tr>\n",
       "      <th>49</th>\n",
       "      <td>youre</td>\n",
       "      <td>513</td>\n",
       "    </tr>\n",
       "    <tr>\n",
       "      <th>...</th>\n",
       "      <td>...</td>\n",
       "      <td>...</td>\n",
       "    </tr>\n",
       "    <tr>\n",
       "      <th>3538</th>\n",
       "      <td>elf</td>\n",
       "      <td>1</td>\n",
       "    </tr>\n",
       "    <tr>\n",
       "      <th>3541</th>\n",
       "      <td>dudes</td>\n",
       "      <td>1</td>\n",
       "    </tr>\n",
       "    <tr>\n",
       "      <th>3542</th>\n",
       "      <td>intend</td>\n",
       "      <td>1</td>\n",
       "    </tr>\n",
       "    <tr>\n",
       "      <th>3545</th>\n",
       "      <td>cooler</td>\n",
       "      <td>1</td>\n",
       "    </tr>\n",
       "    <tr>\n",
       "      <th>6252</th>\n",
       "      <td>exploration</td>\n",
       "      <td>1</td>\n",
       "    </tr>\n",
       "  </tbody>\n",
       "</table>\n",
       "<p>6253 rows × 2 columns</p>\n",
       "</div>"
      ],
      "text/plain": [
       "             word  frequency\n",
       "88           like       1377\n",
       "14           game        971\n",
       "74           yeah        933\n",
       "66         really        625\n",
       "49          youre        513\n",
       "...           ...        ...\n",
       "3538          elf          1\n",
       "3541        dudes          1\n",
       "3542       intend          1\n",
       "3545       cooler          1\n",
       "6252  exploration          1\n",
       "\n",
       "[6253 rows x 2 columns]"
      ]
     },
     "execution_count": 120,
     "metadata": {},
     "output_type": "execute_result"
    }
   ],
   "source": [
    "frequency"
   ]
  },
  {
   "cell_type": "markdown",
   "metadata": {},
   "source": [
    "## Webscrapping"
   ]
  },
  {
   "cell_type": "code",
   "execution_count": 7,
   "metadata": {},
   "outputs": [],
   "source": [
    "headers = {'User-Agent': 'Text mining'}\n",
    "\n",
    "# Construct the results table\n",
    "boardgameList = ['Just One']\n",
    "listhashed = [i.replace(' ', '%20') for i in boardgameList]\n",
    "summaryTable = pd.DataFrame()\n",
    "\n",
    "for j in listhashed:\n",
    "    # Load the webpage\n",
    "    \n",
    "    r = requests.get('https://boardgamegeek.com/geeksearch.php?action=search&objecttype=boardgame&q={}'.format(j), headers=headers)\n",
    "    \n",
    "    # Convert to BS\n",
    "    bs = BeautifulSoup(r.text)\n",
    "    \n",
    "    # Find the right table\n",
    "    table = bs.findAll(lambda tag: tag.name=='table' and tag.has_attr('cellpadding'))\n",
    "    #mydivs = bs.findAll(\"div\", {\"class\": \"table-responsive\"})\n",
    "    errors = bs.findAll(text=\"No Items Found\")\n",
    "   \n",
    "    if not errors:\n",
    "           \n",
    "        tableHTML = table[0]\n",
    "        #tableHTML = mydivs[0]\n",
    "        # Convert the HTML of the table to pandas (very usefull function)\n",
    "        pandasTable = pd.read_html(str(tableHTML), header=0)[0]\n",
    "\n",
    "        # Extract all the links\n",
    "        urls = [np.where(tag.has_attr('href'),tag.get('href'),\"no link\") for tag in tableHTML.find_all('a')]\n",
    "        urls = pd.DataFrame(urls)\n",
    "        urls = urls[0][6]\n",
    "\n",
    "        # Merge the links into the DF\n",
    "        pandasTable['link'] = urls\n",
    "\n",
    "        # Drop unused columns\n",
    "        pandasTable = pandasTable.drop(['Unnamed: 1', 'Shop'], axis = 1)\n",
    "\n",
    "        # Create or extend the existing summary table\n",
    "        if summaryTable.empty:\n",
    "            summaryTable = pandasTable\n",
    "        else:\n",
    "            summaryTable = pd.concat([summaryTable, pandasTable],ignore_index=True)\n",
    "    else:\n",
    "        next"
   ]
  },
  {
   "cell_type": "code",
   "execution_count": 8,
   "metadata": {},
   "outputs": [
    {
     "data": {
      "text/html": [
       "<div>\n",
       "<style scoped>\n",
       "    .dataframe tbody tr th:only-of-type {\n",
       "        vertical-align: middle;\n",
       "    }\n",
       "\n",
       "    .dataframe tbody tr th {\n",
       "        vertical-align: top;\n",
       "    }\n",
       "\n",
       "    .dataframe thead th {\n",
       "        text-align: right;\n",
       "    }\n",
       "</style>\n",
       "<table border=\"1\" class=\"dataframe\">\n",
       "  <thead>\n",
       "    <tr style=\"text-align: right;\">\n",
       "      <th></th>\n",
       "      <th>Board Game Rank</th>\n",
       "      <th>Title</th>\n",
       "      <th>Geek Rating</th>\n",
       "      <th>Avg Rating</th>\n",
       "      <th>Num Voters</th>\n",
       "      <th>link</th>\n",
       "    </tr>\n",
       "  </thead>\n",
       "  <tbody>\n",
       "    <tr>\n",
       "      <td>0</td>\n",
       "      <td>219.0</td>\n",
       "      <td>Just One (2018)</td>\n",
       "      <td>7.209</td>\n",
       "      <td>7.61</td>\n",
       "      <td>6196</td>\n",
       "      <td>/boardgame/254640/just-one</td>\n",
       "    </tr>\n",
       "    <tr>\n",
       "      <td>1</td>\n",
       "      <td>NaN</td>\n",
       "      <td>Port Royal: Just One More Contract... (2015)</td>\n",
       "      <td>6.549</td>\n",
       "      <td>7.53</td>\n",
       "      <td>1461</td>\n",
       "      <td>/boardgame/254640/just-one</td>\n",
       "    </tr>\n",
       "    <tr>\n",
       "      <td>2</td>\n",
       "      <td>NaN</td>\n",
       "      <td>Just One Die Soccer (2009)</td>\n",
       "      <td>NaN</td>\n",
       "      <td>1.00</td>\n",
       "      <td>1</td>\n",
       "      <td>/boardgame/254640/just-one</td>\n",
       "    </tr>\n",
       "    <tr>\n",
       "      <td>3</td>\n",
       "      <td>NaN</td>\n",
       "      <td>Just One: Deutscher Spielepreis Classic Goodie...</td>\n",
       "      <td>NaN</td>\n",
       "      <td>6.64</td>\n",
       "      <td>7</td>\n",
       "      <td>/boardgame/254640/just-one</td>\n",
       "    </tr>\n",
       "    <tr>\n",
       "      <td>4</td>\n",
       "      <td>NaN</td>\n",
       "      <td>Just One: Gathering of Friends Promo Cards (2019)</td>\n",
       "      <td>NaN</td>\n",
       "      <td>7.00</td>\n",
       "      <td>3</td>\n",
       "      <td>/boardgame/254640/just-one</td>\n",
       "    </tr>\n",
       "    <tr>\n",
       "      <td>5</td>\n",
       "      <td>NaN</td>\n",
       "      <td>Cocks Abreast Hostility: Cock Pack One – Just ...</td>\n",
       "      <td>NaN</td>\n",
       "      <td>7.71</td>\n",
       "      <td>7</td>\n",
       "      <td>/boardgame/254640/just-one</td>\n",
       "    </tr>\n",
       "  </tbody>\n",
       "</table>\n",
       "</div>"
      ],
      "text/plain": [
       "   Board Game Rank                                              Title  \\\n",
       "0            219.0                                    Just One (2018)   \n",
       "1              NaN       Port Royal: Just One More Contract... (2015)   \n",
       "2              NaN                         Just One Die Soccer (2009)   \n",
       "3              NaN  Just One: Deutscher Spielepreis Classic Goodie...   \n",
       "4              NaN  Just One: Gathering of Friends Promo Cards (2019)   \n",
       "5              NaN  Cocks Abreast Hostility: Cock Pack One – Just ...   \n",
       "\n",
       "   Geek Rating  Avg Rating  Num Voters                        link  \n",
       "0        7.209        7.61        6196  /boardgame/254640/just-one  \n",
       "1        6.549        7.53        1461  /boardgame/254640/just-one  \n",
       "2          NaN        1.00           1  /boardgame/254640/just-one  \n",
       "3          NaN        6.64           7  /boardgame/254640/just-one  \n",
       "4          NaN        7.00           3  /boardgame/254640/just-one  \n",
       "5          NaN        7.71           7  /boardgame/254640/just-one  "
      ]
     },
     "metadata": {},
     "output_type": "display_data"
    }
   ],
   "source": [
    "display(summaryTable)"
   ]
  },
  {
   "cell_type": "code",
   "execution_count": 9,
   "metadata": {},
   "outputs": [],
   "source": [
    "# Loading the firefox webdriver\n",
    "driver = webdriver.Chrome('/Users/korneliusz.krysiak/Dropbox/TextMining/chromedriver')"
   ]
  },
  {
   "cell_type": "code",
   "execution_count": 10,
   "metadata": {},
   "outputs": [
    {
     "ename": "ValueError",
     "evalue": "invalid literal for int() with base 10: '53  Find For-Trade Matches'",
     "output_type": "error",
     "traceback": [
      "\u001b[0;31m---------------------------------------------------------------------------\u001b[0m",
      "\u001b[0;31mValueError\u001b[0m                                Traceback (most recent call last)",
      "\u001b[0;32m<ipython-input-10-7935f8631ab7>\u001b[0m in \u001b[0;36m<module>\u001b[0;34m\u001b[0m\n\u001b[1;32m     33\u001b[0m     \u001b[0;32mfor\u001b[0m \u001b[0mi\u001b[0m \u001b[0;32min\u001b[0m \u001b[0mrange\u001b[0m\u001b[0;34m(\u001b[0m\u001b[0mlen\u001b[0m\u001b[0;34m(\u001b[0m\u001b[0mdata2\u001b[0m\u001b[0;34m[\u001b[0m\u001b[0;36m4\u001b[0m\u001b[0;34m:\u001b[0m\u001b[0;34m]\u001b[0m\u001b[0;34m)\u001b[0m\u001b[0;34m+\u001b[0m\u001b[0;36m1\u001b[0m\u001b[0;34m)\u001b[0m\u001b[0;34m:\u001b[0m\u001b[0;34m\u001b[0m\u001b[0;34m\u001b[0m\u001b[0m\n\u001b[1;32m     34\u001b[0m         \u001b[0mi\u001b[0m \u001b[0;34m=\u001b[0m \u001b[0mi\u001b[0m\u001b[0;34m+\u001b[0m\u001b[0;36m3\u001b[0m\u001b[0;34m\u001b[0m\u001b[0;34m\u001b[0m\u001b[0m\n\u001b[0;32m---> 35\u001b[0;31m         \u001b[0mdata2\u001b[0m\u001b[0;34m[\u001b[0m\u001b[0mi\u001b[0m\u001b[0;34m]\u001b[0m \u001b[0;34m=\u001b[0m \u001b[0mint\u001b[0m\u001b[0;34m(\u001b[0m\u001b[0mdata2\u001b[0m\u001b[0;34m[\u001b[0m\u001b[0mi\u001b[0m\u001b[0;34m]\u001b[0m\u001b[0;34m)\u001b[0m\u001b[0;34m\u001b[0m\u001b[0;34m\u001b[0m\u001b[0m\n\u001b[0m\u001b[1;32m     36\u001b[0m \u001b[0;34m\u001b[0m\u001b[0m\n\u001b[1;32m     37\u001b[0m     \u001b[0;31m# Special case - two categories. We want to drop both\u001b[0m\u001b[0;34m\u001b[0m\u001b[0;34m\u001b[0m\u001b[0;34m\u001b[0m\u001b[0m\n",
      "\u001b[0;31mValueError\u001b[0m: invalid literal for int() with base 10: '53  Find For-Trade Matches'"
     ]
    }
   ],
   "source": [
    "# Construct the results table\n",
    "detailedTable = pd.DataFrame(columns=['Title','Average Rating','Number of ratings','Std.dev','Number of Comments','Fans','Page Views','Overall Ranking','All Time Plays','Played This Month', 'Own', 'Previously Owned','For Trade','Want in Trade','Wishlist','Has Parts','Want Parts'])\n",
    "detailedTable2 = pd.DataFrame()\n",
    "\n",
    "for j in range(1):\n",
    "    # Load the webpage\n",
    "    driver.get('https://boardgamegeek.com{}/stats'.format(summaryTable['link'][j]))\n",
    "    \n",
    "    # Get the source code and make it BS\n",
    "    pageSource = driver.page_source\n",
    "    bs = BeautifulSoup(pageSource, \"lxml\")\n",
    "    \n",
    "    # Find the relevant table\n",
    "    data = bs.findAll('div',{'class':'outline-item-description'})\n",
    "    \n",
    "    # Loop over and strip spaces\n",
    "    data2 = []\n",
    "    for i in data:\n",
    "        data2.append(i.get_text().strip())\n",
    "\n",
    "    # Remove the ',' \n",
    "    for i in range(len(data2)):\n",
    "        data2[i] = data2[i].replace(\",\",\"\")\n",
    "\n",
    "    # Wrangle the columns\n",
    "    data2[3] = data2[3][0:4]\n",
    "    data2[0] = float(data2[0])\n",
    "    data2[1] = int(data2[1]) \n",
    "    data2[2] = float(data2[2])\n",
    "    data2[3] = float(data2[3]) \n",
    "\n",
    "    # Convert to int\n",
    "    for i in range(len(data2[4:])+1):\n",
    "        i = i+3\n",
    "        data2[i] = int(data2[i])\n",
    "\n",
    "    # Special case - two categories. We want to drop both\n",
    "    if len(data2) == 19:\n",
    "        data2.pop(8)\n",
    "        data2.pop(8)\n",
    "    else:\n",
    "        data2.pop(8)\n",
    "    \n",
    "    # Insert the data\n",
    "    data2.insert(0,summaryTable['Title'][j]) \n",
    "    detailedTable.loc[len(detailedTable)] = data2"
   ]
  },
  {
   "cell_type": "code",
   "execution_count": 11,
   "metadata": {},
   "outputs": [
    {
     "data": {
      "text/html": [
       "<div>\n",
       "<style scoped>\n",
       "    .dataframe tbody tr th:only-of-type {\n",
       "        vertical-align: middle;\n",
       "    }\n",
       "\n",
       "    .dataframe tbody tr th {\n",
       "        vertical-align: top;\n",
       "    }\n",
       "\n",
       "    .dataframe thead th {\n",
       "        text-align: right;\n",
       "    }\n",
       "</style>\n",
       "<table border=\"1\" class=\"dataframe\">\n",
       "  <thead>\n",
       "    <tr style=\"text-align: right;\">\n",
       "      <th></th>\n",
       "      <th>Title</th>\n",
       "      <th>Average Rating</th>\n",
       "      <th>Number of ratings</th>\n",
       "      <th>Std.dev</th>\n",
       "      <th>Number of Comments</th>\n",
       "      <th>Fans</th>\n",
       "      <th>Page Views</th>\n",
       "      <th>Overall Ranking</th>\n",
       "      <th>All Time Plays</th>\n",
       "      <th>Played This Month</th>\n",
       "      <th>Own</th>\n",
       "      <th>Previously Owned</th>\n",
       "      <th>For Trade</th>\n",
       "      <th>Want in Trade</th>\n",
       "      <th>Wishlist</th>\n",
       "      <th>Has Parts</th>\n",
       "      <th>Want Parts</th>\n",
       "    </tr>\n",
       "  </thead>\n",
       "  <tbody>\n",
       "  </tbody>\n",
       "</table>\n",
       "</div>"
      ],
      "text/plain": [
       "Empty DataFrame\n",
       "Columns: [Title, Average Rating, Number of ratings, Std.dev, Number of Comments, Fans, Page Views, Overall Ranking, All Time Plays, Played This Month, Own, Previously Owned, For Trade, Want in Trade, Wishlist, Has Parts, Want Parts]\n",
       "Index: []"
      ]
     },
     "metadata": {},
     "output_type": "display_data"
    }
   ],
   "source": [
    "display(detailedTable)"
   ]
  },
  {
   "cell_type": "code",
   "execution_count": null,
   "metadata": {},
   "outputs": [],
   "source": [
    "# twoja kolej Michal"
   ]
  }
 ],
 "metadata": {
  "kernelspec": {
   "display_name": "Python 3",
   "language": "python",
   "name": "python3"
  },
  "language_info": {
   "codemirror_mode": {
    "name": "ipython",
    "version": 3
   },
   "file_extension": ".py",
   "mimetype": "text/x-python",
   "name": "python",
   "nbconvert_exporter": "python",
   "pygments_lexer": "ipython3",
   "version": "3.7.6"
  }
 },
 "nbformat": 4,
 "nbformat_minor": 4
}
